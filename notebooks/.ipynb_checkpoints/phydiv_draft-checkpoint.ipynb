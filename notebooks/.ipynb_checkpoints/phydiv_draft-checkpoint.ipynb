{
 "cells": [
  {
   "cell_type": "markdown",
   "id": "c5bba390-808e-4fd6-bae3-f589e28e369a",
   "metadata": {},
   "source": [
    "# Draft of clean phydiv code"
   ]
  },
  {
   "cell_type": "code",
   "execution_count": 2,
   "id": "0c724e3e-e281-4602-b957-8c9b155c3ffc",
   "metadata": {},
   "outputs": [
    {
     "ename": "ModuleNotFoundError",
     "evalue": "No module named 'simpd'",
     "output_type": "error",
     "traceback": [
      "\u001b[31m---------------------------------------------------------------------------\u001b[39m",
      "\u001b[31mModuleNotFoundError\u001b[39m                       Traceback (most recent call last)",
      "\u001b[36mCell\u001b[39m\u001b[36m \u001b[39m\u001b[32mIn[2]\u001b[39m\u001b[32m, line 7\u001b[39m\n\u001b[32m      5\u001b[39m \u001b[38;5;28;01mimport\u001b[39;00m \u001b[34;01mrandom\u001b[39;00m\n\u001b[32m      6\u001b[39m \u001b[38;5;28;01mimport\u001b[39;00m \u001b[34;01mtoytree\u001b[39;00m\n\u001b[32m----> \u001b[39m\u001b[32m7\u001b[39m \u001b[38;5;28;01mfrom\u001b[39;00m \u001b[34;01msrc\u001b[39;00m\u001b[34;01m.\u001b[39;00m\u001b[34;01msimpd\u001b[39;00m\u001b[34;01m.\u001b[39;00m\u001b[34;01msimpd\u001b[39;00m \u001b[38;5;28;01mimport\u001b[39;00m Simpd\n",
      "\u001b[36mFile \u001b[39m\u001b[32m~/Documents/GitHub/hacks/phydiv/src/__init__.py:6\u001b[39m\n\u001b[32m      4\u001b[39m \u001b[38;5;28;01mfrom\u001b[39;00m \u001b[34;01m.\u001b[39;00m \u001b[38;5;28;01mimport\u001b[39;00m metrics\n\u001b[32m      5\u001b[39m \u001b[38;5;28;01mfrom\u001b[39;00m \u001b[34;01m.\u001b[39;00m \u001b[38;5;28;01mimport\u001b[39;00m simpd\n\u001b[32m----> \u001b[39m\u001b[32m6\u001b[39m \u001b[38;5;28;01mfrom\u001b[39;00m \u001b[34;01msimpd\u001b[39;00m \u001b[38;5;28;01mimport\u001b[39;00m Simpd\n",
      "\u001b[31mModuleNotFoundError\u001b[39m: No module named 'simpd'"
     ]
    }
   ],
   "source": [
    "import numpy as np\n",
    "import pandas as pd\n",
    "\n",
    "import itertools\n",
    "import random\n",
    "import toytree\n",
    "#from src.simpd.simpd import Simpd"
   ]
  },
  {
   "cell_type": "markdown",
   "id": "23e40dc4-ecaa-4c97-8d29-8e780b330374",
   "metadata": {},
   "source": [
    "## Built-in example data"
   ]
  },
  {
   "cell_type": "markdown",
   "id": "e6c74bdc-7145-4616-8560-0f7130b596e4",
   "metadata": {},
   "source": [
    "## Plotting"
   ]
  },
  {
   "cell_type": "markdown",
   "id": "6ef17ff6-7b60-4eda-a440-a1c5e9307f74",
   "metadata": {},
   "source": [
    "## Metrics"
   ]
  }
 ],
 "metadata": {
  "kernelspec": {
   "display_name": "Python 3 (ipykernel)",
   "language": "python",
   "name": "python3"
  },
  "language_info": {
   "codemirror_mode": {
    "name": "ipython",
    "version": 3
   },
   "file_extension": ".py",
   "mimetype": "text/x-python",
   "name": "python",
   "nbconvert_exporter": "python",
   "pygments_lexer": "ipython3",
   "version": "3.12.2"
  }
 },
 "nbformat": 4,
 "nbformat_minor": 5
}
