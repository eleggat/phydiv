{
 "cells": [
  {
   "cell_type": "markdown",
   "id": "dbd97efa-3734-4acb-96fe-177dba3a2d8a",
   "metadata": {},
   "source": [
    "# Metric function(s)"
   ]
  },
  {
   "cell_type": "code",
   "execution_count": 1,
   "id": "9c03de53-50dd-4ebc-84f5-a1a5019d3279",
   "metadata": {},
   "outputs": [],
   "source": [
    "import numpy as np\n",
    "import pandas as pd\n",
    "import random\n",
    "from skbio import diversity\n",
    "import toytree\n",
    "\n",
    "from sys import path\n",
    "path.append('../simpd')\n",
    "from simpd import Simpd"
   ]
  },
  {
   "cell_type": "code",
   "execution_count": 2,
   "id": "4bc81ce1-321b-43ee-97e8-7c5f67acae5b",
   "metadata": {},
   "outputs": [],
   "source": [
    "#establishing a mock community\n",
    "#species pool = 50, each community has 30 sp, no phylogenetic structure, 20 communities\n",
    "mock = Simpd(ntips = 50)\n",
    "\n",
    "#writing a tree and matrix to be used in R for comparison\n",
    "#newick_str = mock.sp_tree.write()\n",
    "#with open(\"testing2_tree.nwk\", \"w\") as f:\n",
    "#    f.write(newick_str)\n",
    "#mock_mat = mock.simmat(sr = 30, pa = 0, nsites = 20, df = True, csv = \"testing2\")\n",
    "\n",
    "mock_mat = pd.read_csv(\"testing2.csv\")"
   ]
  },
  {
   "cell_type": "code",
   "execution_count": 3,
   "id": "c7113183-5886-4ee3-838a-75bf48b0fb4a",
   "metadata": {},
   "outputs": [
    {
     "data": {
      "text/html": [
       "<div class=\"toyplot\" id=\"t36b7b9042adf412eb6eb33aa130a4be9\" style=\"text-align:center\"><svg class=\"toyplot-canvas-Canvas\" xmlns:toyplot=\"http://www.sandia.gov/toyplot\" xmlns:xlink=\"http://www.w3.org/1999/xlink\" xmlns=\"http://www.w3.org/2000/svg\" width=\"415.68px\" height=\"927.9999999999992px\" viewBox=\"0 0 415.68 927.9999999999992\" preserveAspectRatio=\"xMidYMid meet\" style=\"background-color:transparent;border-color:#292724;border-style:none;border-width:1.0;fill:rgb(16.1%,15.3%,14.1%);fill-opacity:1.0;font-family:Helvetica;font-size:12px;opacity:1.0;stroke:rgb(16.1%,15.3%,14.1%);stroke-opacity:1.0;stroke-width:1.0\" id=\"t96f664a7047b4106bf91438cb7e906d8\"><g class=\"toyplot-coordinates-Cartesian\" id=\"t1b906db24e424a73b8b221cd2a16170e\"><clipPath id=\"t876fea8ec32141108f790d49fd6348cd\"><rect x=\"35.0\" y=\"35.0\" width=\"345.68\" height=\"857.9999999999992\"></rect></clipPath><g clip-path=\"url(#t876fea8ec32141108f790d49fd6348cd)\"><g class=\"toytree-mark-Toytree\" id=\"t0d083d04ab9c4e1ea4dcd2690baf9d50\"><g class=\"toytree-Edges\" style=\"stroke:rgb(14.5%,14.5%,14.5%);stroke-opacity:1.0;stroke-linecap:round;stroke-width:2.0;fill:none\"><path d=\"M 225.0 858.5 L 225.0 870.9 L 312.1 870.9\" id=\"51,0\" style=\"\"></path><path d=\"M 268.6 846.0 L 268.6 854.3 L 312.1 854.3\" id=\"50,1\" style=\"\"></path><path d=\"M 268.6 846.0 L 268.6 837.7 L 312.1 837.7\" id=\"50,2\" style=\"\"></path><path d=\"M 225.0 808.6 L 225.0 821.1 L 312.1 821.1\" id=\"53,3\" style=\"\"></path><path d=\"M 268.6 796.2 L 268.6 804.5 L 312.1 804.5\" id=\"52,4\" style=\"\"></path><path d=\"M 268.6 796.2 L 268.6 787.9 L 312.1 787.9\" id=\"52,5\" style=\"\"></path><path d=\"M 225.0 758.8 L 225.0 771.3 L 312.1 771.3\" id=\"56,6\" style=\"\"></path><path d=\"M 268.6 746.4 L 268.6 754.7 L 312.1 754.7\" id=\"55,7\" style=\"\"></path><path d=\"M 268.6 746.4 L 268.6 738.1 L 312.1 738.1\" id=\"55,8\" style=\"\"></path><path d=\"M 225.0 709.0 L 225.0 721.4 L 312.1 721.4\" id=\"58,9\" style=\"\"></path><path d=\"M 268.6 696.5 L 268.6 704.8 L 312.1 704.8\" id=\"57,10\" style=\"\"></path><path d=\"M 268.6 696.5 L 268.6 688.2 L 312.1 688.2\" id=\"57,11\" style=\"\"></path><path d=\"M 225.0 659.2 L 225.0 671.6 L 312.1 671.6\" id=\"62,12\" style=\"\"></path><path d=\"M 268.6 646.7 L 268.6 655.0 L 312.1 655.0\" id=\"61,13\" style=\"\"></path><path d=\"M 268.6 646.7 L 268.6 638.4 L 312.1 638.4\" id=\"61,14\" style=\"\"></path><path d=\"M 225.0 609.3 L 225.0 621.8 L 312.1 621.8\" id=\"64,15\" style=\"\"></path><path d=\"M 268.6 596.9 L 268.6 605.2 L 312.1 605.2\" id=\"63,16\" style=\"\"></path><path d=\"M 268.6 596.9 L 268.6 588.6 L 312.1 588.6\" id=\"63,17\" style=\"\"></path><path d=\"M 225.0 559.5 L 225.0 572.0 L 312.1 572.0\" id=\"67,18\" style=\"\"></path><path d=\"M 268.6 547.0 L 268.6 555.4 L 312.1 555.4\" id=\"66,19\" style=\"\"></path><path d=\"M 268.6 547.0 L 268.6 538.7 L 312.1 538.7\" id=\"66,20\" style=\"\"></path><path d=\"M 268.6 513.8 L 268.6 522.1 L 312.1 522.1\" id=\"68,21\" style=\"\"></path><path d=\"M 268.6 513.8 L 268.6 505.5 L 312.1 505.5\" id=\"68,22\" style=\"\"></path><path d=\"M 268.6 480.6 L 268.6 488.9 L 312.1 488.9\" id=\"69,23\" style=\"\"></path><path d=\"M 268.6 480.6 L 268.6 472.3 L 312.1 472.3\" id=\"69,24\" style=\"\"></path><path d=\"M 225.0 443.2 L 225.0 455.7 L 312.1 455.7\" id=\"75,25\" style=\"\"></path><path d=\"M 268.6 430.8 L 268.6 439.1 L 312.1 439.1\" id=\"74,26\" style=\"\"></path><path d=\"M 268.6 430.8 L 268.6 422.5 L 312.1 422.5\" id=\"74,27\" style=\"\"></path><path d=\"M 225.0 393.4 L 225.0 405.9 L 312.1 405.9\" id=\"77,28\" style=\"\"></path><path d=\"M 268.6 381.0 L 268.6 389.3 L 312.1 389.3\" id=\"76,29\" style=\"\"></path><path d=\"M 268.6 381.0 L 268.6 372.6 L 312.1 372.6\" id=\"76,30\" style=\"\"></path><path d=\"M 225.0 343.6 L 225.0 356.0 L 312.1 356.0\" id=\"80,31\" style=\"\"></path><path d=\"M 268.6 331.1 L 268.6 339.4 L 312.1 339.4\" id=\"79,32\" style=\"\"></path><path d=\"M 268.6 331.1 L 268.6 322.8 L 312.1 322.8\" id=\"79,33\" style=\"\"></path><path d=\"M 225.0 293.8 L 225.0 306.2 L 312.1 306.2\" id=\"82,34\" style=\"\"></path><path d=\"M 268.6 281.3 L 268.6 289.6 L 312.1 289.6\" id=\"81,35\" style=\"\"></path><path d=\"M 268.6 281.3 L 268.6 273.0 L 312.1 273.0\" id=\"81,36\" style=\"\"></path><path d=\"M 225.0 243.9 L 225.0 256.4 L 312.1 256.4\" id=\"86,37\" style=\"\"></path><path d=\"M 268.6 231.5 L 268.6 239.8 L 312.1 239.8\" id=\"85,38\" style=\"\"></path><path d=\"M 268.6 231.5 L 268.6 223.2 L 312.1 223.2\" id=\"85,39\" style=\"\"></path><path d=\"M 225.0 194.1 L 225.0 206.6 L 312.1 206.6\" id=\"88,40\" style=\"\"></path><path d=\"M 268.6 181.6 L 268.6 189.9 L 312.1 189.9\" id=\"87,41\" style=\"\"></path><path d=\"M 268.6 181.6 L 268.6 173.3 L 312.1 173.3\" id=\"87,42\" style=\"\"></path><path d=\"M 225.0 144.3 L 225.0 156.7 L 312.1 156.7\" id=\"91,43\" style=\"\"></path><path d=\"M 268.6 131.8 L 268.6 140.1 L 312.1 140.1\" id=\"90,44\" style=\"\"></path><path d=\"M 268.6 131.8 L 268.6 123.5 L 312.1 123.5\" id=\"90,45\" style=\"\"></path><path d=\"M 268.6 98.6 L 268.6 106.9 L 312.1 106.9\" id=\"92,46\" style=\"\"></path><path d=\"M 268.6 98.6 L 268.6 90.3 L 312.1 90.3\" id=\"92,47\" style=\"\"></path><path d=\"M 268.6 65.4 L 268.6 73.7 L 312.1 73.7\" id=\"93,48\" style=\"\"></path><path d=\"M 268.6 65.4 L 268.6 57.1 L 312.1 57.1\" id=\"93,49\" style=\"\"></path><path d=\"M 225.0 858.5 L 225.0 846.0 L 268.6 846.0\" id=\"51,50\" style=\"\"></path><path d=\"M 181.5 833.6 L 181.5 858.5 L 225.0 858.5\" id=\"54,51\" style=\"\"></path><path d=\"M 225.0 808.6 L 225.0 796.2 L 268.6 796.2\" id=\"53,52\" style=\"\"></path><path d=\"M 181.5 833.6 L 181.5 808.6 L 225.0 808.6\" id=\"54,53\" style=\"\"></path><path d=\"M 137.9 783.7 L 137.9 833.6 L 181.5 833.6\" id=\"60,54\" style=\"\"></path><path d=\"M 225.0 758.8 L 225.0 746.4 L 268.6 746.4\" id=\"56,55\" style=\"\"></path><path d=\"M 181.5 733.9 L 181.5 758.8 L 225.0 758.8\" id=\"59,56\" style=\"\"></path><path d=\"M 225.0 709.0 L 225.0 696.5 L 268.6 696.5\" id=\"58,57\" style=\"\"></path><path d=\"M 181.5 733.9 L 181.5 709.0 L 225.0 709.0\" id=\"59,58\" style=\"\"></path><path d=\"M 137.9 783.7 L 137.9 733.9 L 181.5 733.9\" id=\"60,59\" style=\"\"></path><path d=\"M 94.4 682.5 L 94.4 783.7 L 137.9 783.7\" id=\"73,60\" style=\"\"></path><path d=\"M 225.0 659.2 L 225.0 646.7 L 268.6 646.7\" id=\"62,61\" style=\"\"></path><path d=\"M 181.5 634.2 L 181.5 659.2 L 225.0 659.2\" id=\"65,62\" style=\"\"></path><path d=\"M 225.0 609.3 L 225.0 596.9 L 268.6 596.9\" id=\"64,63\" style=\"\"></path><path d=\"M 181.5 634.2 L 181.5 609.3 L 225.0 609.3\" id=\"65,64\" style=\"\"></path><path d=\"M 137.9 581.3 L 137.9 634.2 L 181.5 634.2\" id=\"72,65\" style=\"\"></path><path d=\"M 225.0 559.5 L 225.0 547.0 L 268.6 547.0\" id=\"67,66\" style=\"\"></path><path d=\"M 181.5 528.4 L 181.5 559.5 L 225.0 559.5\" id=\"71,67\" style=\"\"></path><path d=\"M 225.0 497.2 L 225.0 513.8 L 268.6 513.8\" id=\"70,68\" style=\"\"></path><path d=\"M 225.0 497.2 L 225.0 480.6 L 268.6 480.6\" id=\"70,69\" style=\"\"></path><path d=\"M 181.5 528.4 L 181.5 497.2 L 225.0 497.2\" id=\"71,70\" style=\"\"></path><path d=\"M 137.9 581.3 L 137.9 528.4 L 181.5 528.4\" id=\"72,71\" style=\"\"></path><path d=\"M 94.4 682.5 L 94.4 581.3 L 137.9 581.3\" id=\"73,72\" style=\"\"></path><path d=\"M 50.8 474.9 L 50.8 682.5 L 94.4 682.5\" id=\"98,73\" style=\"\"></path><path d=\"M 225.0 443.2 L 225.0 430.8 L 268.6 430.8\" id=\"75,74\" style=\"\"></path><path d=\"M 181.5 418.3 L 181.5 443.2 L 225.0 443.2\" id=\"78,75\" style=\"\"></path><path d=\"M 225.0 393.4 L 225.0 381.0 L 268.6 381.0\" id=\"77,76\" style=\"\"></path><path d=\"M 181.5 418.3 L 181.5 393.4 L 225.0 393.4\" id=\"78,77\" style=\"\"></path><path d=\"M 137.9 368.5 L 137.9 418.3 L 181.5 418.3\" id=\"84,78\" style=\"\"></path><path d=\"M 225.0 343.6 L 225.0 331.1 L 268.6 331.1\" id=\"80,79\" style=\"\"></path><path d=\"M 181.5 318.7 L 181.5 343.6 L 225.0 343.6\" id=\"83,80\" style=\"\"></path><path d=\"M 225.0 293.8 L 225.0 281.3 L 268.6 281.3\" id=\"82,81\" style=\"\"></path><path d=\"M 181.5 318.7 L 181.5 293.8 L 225.0 293.8\" id=\"83,82\" style=\"\"></path><path d=\"M 137.9 368.5 L 137.9 318.7 L 181.5 318.7\" id=\"84,83\" style=\"\"></path><path d=\"M 94.4 267.3 L 94.4 368.5 L 137.9 368.5\" id=\"97,84\" style=\"\"></path><path d=\"M 225.0 243.9 L 225.0 231.5 L 268.6 231.5\" id=\"86,85\" style=\"\"></path><path d=\"M 181.5 219.0 L 181.5 243.9 L 225.0 243.9\" id=\"89,86\" style=\"\"></path><path d=\"M 225.0 194.1 L 225.0 181.6 L 268.6 181.6\" id=\"88,87\" style=\"\"></path><path d=\"M 181.5 219.0 L 181.5 194.1 L 225.0 194.1\" id=\"89,88\" style=\"\"></path><path d=\"M 137.9 166.1 L 137.9 219.0 L 181.5 219.0\" id=\"96,89\" style=\"\"></path><path d=\"M 225.0 144.3 L 225.0 131.8 L 268.6 131.8\" id=\"91,90\" style=\"\"></path><path d=\"M 181.5 113.1 L 181.5 144.3 L 225.0 144.3\" id=\"95,91\" style=\"\"></path><path d=\"M 225.0 82.0 L 225.0 98.6 L 268.6 98.6\" id=\"94,92\" style=\"\"></path><path d=\"M 225.0 82.0 L 225.0 65.4 L 268.6 65.4\" id=\"94,93\" style=\"\"></path><path d=\"M 181.5 113.1 L 181.5 82.0 L 225.0 82.0\" id=\"95,94\" style=\"\"></path><path d=\"M 137.9 166.1 L 137.9 113.1 L 181.5 113.1\" id=\"96,95\" style=\"\"></path><path d=\"M 94.4 267.3 L 94.4 166.1 L 137.9 166.1\" id=\"97,96\" style=\"\"></path><path d=\"M 50.8 474.9 L 50.8 267.3 L 94.4 267.3\" id=\"98,97\" style=\"\"></path></g><g class=\"toytree-AdmixEdges\" style=\"fill:rgb(0.0%,0.0%,0.0%);fill-opacity:0.0;stroke:rgb(90.6%,54.1%,76.5%);stroke-opacity:0.6;font-size:14px;stroke-linecap:round;stroke-width:5\"></g><g class=\"toytree-Nodes\" style=\"fill:rgb(40.0%,76.1%,64.7%);fill-opacity:1.0;stroke:rgb(14.9%,14.9%,14.9%);stroke-opacity:1.0;stroke-width:1.5\"></g><g class=\"toytree-TipLabels\" style=\"fill:rgb(14.5%,14.5%,14.5%);fill-opacity:1.0;font-family:Helvetica;font-size:12px;font-weight:300;vertical-align:baseline;white-space:pre;stroke:none\"><g class=\"toytree-TipLabel\" transform=\"translate(312.14,870.923)\"><text x=\"15.0\" y=\"3.066\" style=\"fill:rgb(14.5%,14.5%,14.5%);fill-opacity:1.0\">r0</text></g><g class=\"toytree-TipLabel\" transform=\"translate(312.14,854.314)\"><text x=\"15.0\" y=\"3.066\" style=\"fill:rgb(14.5%,14.5%,14.5%);fill-opacity:1.0\">r1</text></g><g class=\"toytree-TipLabel\" transform=\"translate(312.14,837.705)\"><text x=\"15.0\" y=\"3.066\" style=\"fill:rgb(14.5%,14.5%,14.5%);fill-opacity:1.0\">r2</text></g><g class=\"toytree-TipLabel\" transform=\"translate(312.14,821.096)\"><text x=\"15.0\" y=\"3.066\" style=\"fill:rgb(14.5%,14.5%,14.5%);fill-opacity:1.0\">r3</text></g><g class=\"toytree-TipLabel\" transform=\"translate(312.14,804.487)\"><text x=\"15.0\" y=\"3.066\" style=\"fill:rgb(14.5%,14.5%,14.5%);fill-opacity:1.0\">r4</text></g><g class=\"toytree-TipLabel\" transform=\"translate(312.14,787.878)\"><text x=\"15.0\" y=\"3.066\" style=\"fill:rgb(14.5%,14.5%,14.5%);fill-opacity:1.0\">r5</text></g><g class=\"toytree-TipLabel\" transform=\"translate(312.14,771.268)\"><text x=\"15.0\" y=\"3.066\" style=\"fill:rgb(14.5%,14.5%,14.5%);fill-opacity:1.0\">r6</text></g><g class=\"toytree-TipLabel\" transform=\"translate(312.14,754.659)\"><text x=\"15.0\" y=\"3.066\" style=\"fill:rgb(14.5%,14.5%,14.5%);fill-opacity:1.0\">r7</text></g><g class=\"toytree-TipLabel\" transform=\"translate(312.14,738.05)\"><text x=\"15.0\" y=\"3.066\" style=\"fill:rgb(14.5%,14.5%,14.5%);fill-opacity:1.0\">r8</text></g><g class=\"toytree-TipLabel\" transform=\"translate(312.14,721.441)\"><text x=\"15.0\" y=\"3.066\" style=\"fill:rgb(14.5%,14.5%,14.5%);fill-opacity:1.0\">r9</text></g><g class=\"toytree-TipLabel\" transform=\"translate(312.14,704.832)\"><text x=\"15.0\" y=\"3.066\" style=\"fill:rgb(14.5%,14.5%,14.5%);fill-opacity:1.0\">r10</text></g><g class=\"toytree-TipLabel\" transform=\"translate(312.14,688.223)\"><text x=\"15.0\" y=\"3.066\" style=\"fill:rgb(14.5%,14.5%,14.5%);fill-opacity:1.0\">r11</text></g><g class=\"toytree-TipLabel\" transform=\"translate(312.14,671.614)\"><text x=\"15.0\" y=\"3.066\" style=\"fill:rgb(14.5%,14.5%,14.5%);fill-opacity:1.0\">r12</text></g><g class=\"toytree-TipLabel\" transform=\"translate(312.14,655.005)\"><text x=\"15.0\" y=\"3.066\" style=\"fill:rgb(14.5%,14.5%,14.5%);fill-opacity:1.0\">r13</text></g><g class=\"toytree-TipLabel\" transform=\"translate(312.14,638.396)\"><text x=\"15.0\" y=\"3.066\" style=\"fill:rgb(14.5%,14.5%,14.5%);fill-opacity:1.0\">r14</text></g><g class=\"toytree-TipLabel\" transform=\"translate(312.14,621.786)\"><text x=\"15.0\" y=\"3.066\" style=\"fill:rgb(14.5%,14.5%,14.5%);fill-opacity:1.0\">r15</text></g><g class=\"toytree-TipLabel\" transform=\"translate(312.14,605.177)\"><text x=\"15.0\" y=\"3.066\" style=\"fill:rgb(14.5%,14.5%,14.5%);fill-opacity:1.0\">r16</text></g><g class=\"toytree-TipLabel\" transform=\"translate(312.14,588.568)\"><text x=\"15.0\" y=\"3.066\" style=\"fill:rgb(14.5%,14.5%,14.5%);fill-opacity:1.0\">r17</text></g><g class=\"toytree-TipLabel\" transform=\"translate(312.14,571.959)\"><text x=\"15.0\" y=\"3.066\" style=\"fill:rgb(14.5%,14.5%,14.5%);fill-opacity:1.0\">r18</text></g><g class=\"toytree-TipLabel\" transform=\"translate(312.14,555.35)\"><text x=\"15.0\" y=\"3.066\" style=\"fill:rgb(14.5%,14.5%,14.5%);fill-opacity:1.0\">r19</text></g><g class=\"toytree-TipLabel\" transform=\"translate(312.14,538.741)\"><text x=\"15.0\" y=\"3.066\" style=\"fill:rgb(14.5%,14.5%,14.5%);fill-opacity:1.0\">r20</text></g><g class=\"toytree-TipLabel\" transform=\"translate(312.14,522.132)\"><text x=\"15.0\" y=\"3.066\" style=\"fill:rgb(14.5%,14.5%,14.5%);fill-opacity:1.0\">r21</text></g><g class=\"toytree-TipLabel\" transform=\"translate(312.14,505.523)\"><text x=\"15.0\" y=\"3.066\" style=\"fill:rgb(14.5%,14.5%,14.5%);fill-opacity:1.0\">r22</text></g><g class=\"toytree-TipLabel\" transform=\"translate(312.14,488.914)\"><text x=\"15.0\" y=\"3.066\" style=\"fill:rgb(14.5%,14.5%,14.5%);fill-opacity:1.0\">r23</text></g><g class=\"toytree-TipLabel\" transform=\"translate(312.14,472.305)\"><text x=\"15.0\" y=\"3.066\" style=\"fill:rgb(14.5%,14.5%,14.5%);fill-opacity:1.0\">r24</text></g><g class=\"toytree-TipLabel\" transform=\"translate(312.14,455.695)\"><text x=\"15.0\" y=\"3.066\" style=\"fill:rgb(14.5%,14.5%,14.5%);fill-opacity:1.0\">r25</text></g><g class=\"toytree-TipLabel\" transform=\"translate(312.14,439.086)\"><text x=\"15.0\" y=\"3.066\" style=\"fill:rgb(14.5%,14.5%,14.5%);fill-opacity:1.0\">r26</text></g><g class=\"toytree-TipLabel\" transform=\"translate(312.14,422.477)\"><text x=\"15.0\" y=\"3.066\" style=\"fill:rgb(14.5%,14.5%,14.5%);fill-opacity:1.0\">r27</text></g><g class=\"toytree-TipLabel\" transform=\"translate(312.14,405.868)\"><text x=\"15.0\" y=\"3.066\" style=\"fill:rgb(14.5%,14.5%,14.5%);fill-opacity:1.0\">r28</text></g><g class=\"toytree-TipLabel\" transform=\"translate(312.14,389.259)\"><text x=\"15.0\" y=\"3.066\" style=\"fill:rgb(14.5%,14.5%,14.5%);fill-opacity:1.0\">r29</text></g><g class=\"toytree-TipLabel\" transform=\"translate(312.14,372.65)\"><text x=\"15.0\" y=\"3.066\" style=\"fill:rgb(14.5%,14.5%,14.5%);fill-opacity:1.0\">r30</text></g><g class=\"toytree-TipLabel\" transform=\"translate(312.14,356.041)\"><text x=\"15.0\" y=\"3.066\" style=\"fill:rgb(14.5%,14.5%,14.5%);fill-opacity:1.0\">r31</text></g><g class=\"toytree-TipLabel\" transform=\"translate(312.14,339.432)\"><text x=\"15.0\" y=\"3.066\" style=\"fill:rgb(14.5%,14.5%,14.5%);fill-opacity:1.0\">r32</text></g><g class=\"toytree-TipLabel\" transform=\"translate(312.14,322.823)\"><text x=\"15.0\" y=\"3.066\" style=\"fill:rgb(14.5%,14.5%,14.5%);fill-opacity:1.0\">r33</text></g><g class=\"toytree-TipLabel\" transform=\"translate(312.14,306.214)\"><text x=\"15.0\" y=\"3.066\" style=\"fill:rgb(14.5%,14.5%,14.5%);fill-opacity:1.0\">r34</text></g><g class=\"toytree-TipLabel\" transform=\"translate(312.14,289.604)\"><text x=\"15.0\" y=\"3.066\" style=\"fill:rgb(14.5%,14.5%,14.5%);fill-opacity:1.0\">r35</text></g><g class=\"toytree-TipLabel\" transform=\"translate(312.14,272.995)\"><text x=\"15.0\" y=\"3.066\" style=\"fill:rgb(14.5%,14.5%,14.5%);fill-opacity:1.0\">r36</text></g><g class=\"toytree-TipLabel\" transform=\"translate(312.14,256.386)\"><text x=\"15.0\" y=\"3.066\" style=\"fill:rgb(14.5%,14.5%,14.5%);fill-opacity:1.0\">r37</text></g><g class=\"toytree-TipLabel\" transform=\"translate(312.14,239.777)\"><text x=\"15.0\" y=\"3.066\" style=\"fill:rgb(14.5%,14.5%,14.5%);fill-opacity:1.0\">r38</text></g><g class=\"toytree-TipLabel\" transform=\"translate(312.14,223.168)\"><text x=\"15.0\" y=\"3.066\" style=\"fill:rgb(14.5%,14.5%,14.5%);fill-opacity:1.0\">r39</text></g><g class=\"toytree-TipLabel\" transform=\"translate(312.14,206.559)\"><text x=\"15.0\" y=\"3.066\" style=\"fill:rgb(14.5%,14.5%,14.5%);fill-opacity:1.0\">r40</text></g><g class=\"toytree-TipLabel\" transform=\"translate(312.14,189.95)\"><text x=\"15.0\" y=\"3.066\" style=\"fill:rgb(14.5%,14.5%,14.5%);fill-opacity:1.0\">r41</text></g><g class=\"toytree-TipLabel\" transform=\"translate(312.14,173.341)\"><text x=\"15.0\" y=\"3.066\" style=\"fill:rgb(14.5%,14.5%,14.5%);fill-opacity:1.0\">r42</text></g><g class=\"toytree-TipLabel\" transform=\"translate(312.14,156.732)\"><text x=\"15.0\" y=\"3.066\" style=\"fill:rgb(14.5%,14.5%,14.5%);fill-opacity:1.0\">r43</text></g><g class=\"toytree-TipLabel\" transform=\"translate(312.14,140.122)\"><text x=\"15.0\" y=\"3.066\" style=\"fill:rgb(14.5%,14.5%,14.5%);fill-opacity:1.0\">r44</text></g><g class=\"toytree-TipLabel\" transform=\"translate(312.14,123.513)\"><text x=\"15.0\" y=\"3.066\" style=\"fill:rgb(14.5%,14.5%,14.5%);fill-opacity:1.0\">r45</text></g><g class=\"toytree-TipLabel\" transform=\"translate(312.14,106.904)\"><text x=\"15.0\" y=\"3.066\" style=\"fill:rgb(14.5%,14.5%,14.5%);fill-opacity:1.0\">r46</text></g><g class=\"toytree-TipLabel\" transform=\"translate(312.14,90.2951)\"><text x=\"15.0\" y=\"3.066\" style=\"fill:rgb(14.5%,14.5%,14.5%);fill-opacity:1.0\">r47</text></g><g class=\"toytree-TipLabel\" transform=\"translate(312.14,73.686)\"><text x=\"15.0\" y=\"3.066\" style=\"fill:rgb(14.5%,14.5%,14.5%);fill-opacity:1.0\">r48</text></g><g class=\"toytree-TipLabel\" transform=\"translate(312.14,57.0769)\"><text x=\"15.0\" y=\"3.066\" style=\"fill:rgb(14.5%,14.5%,14.5%);fill-opacity:1.0\">r49</text></g></g></g></g></g></svg><div class=\"toyplot-behavior\"><script>(function()\n",
       "{\n",
       "var modules={};\n",
       "})();</script></div></div>"
      ]
     },
     "metadata": {},
     "output_type": "display_data"
    }
   ],
   "source": [
    "#drawing the metacommunity tree\n",
    "mock.sp_tree.draw();"
   ]
  },
  {
   "cell_type": "code",
   "execution_count": 4,
   "id": "d233348a-c3e9-4a66-ae16-3bd205eccf7f",
   "metadata": {},
   "outputs": [],
   "source": [
    "#making distance matrix for the whole metacommunity\n",
    "#mock.sp_tree.distance.get_tip_distance_matrix(df = True).to_csv(\"testing2_dm.csv\") #for R testing\n",
    "meta_dm = mock.sp_tree.distance.get_tip_distance_matrix(df = True)"
   ]
  },
  {
   "cell_type": "markdown",
   "id": "f0ef5579-a72c-4a39-88c6-f10945df7baf",
   "metadata": {},
   "source": [
    "## Trying (failing?) to prune tree to each community"
   ]
  },
  {
   "cell_type": "code",
   "execution_count": 5,
   "id": "a0d333f2-c0ee-4730-a482-d5b174634739",
   "metadata": {},
   "outputs": [
    {
     "data": {
      "text/plain": [
       "0     [r1, r2, r3, r4, r5, r8, r9, r12, r14, r15, r1...\n",
       "1     [r1, r2, r9, r10, r12, r14, r16, r17, r18, r22...\n",
       "2     [r0, r1, r3, r4, r6, r8, r9, r10, r11, r12, r1...\n",
       "3     [r0, r1, r3, r4, r5, r6, r7, r9, r10, r11, r14...\n",
       "4     [r0, r1, r2, r4, r5, r6, r9, r10, r12, r15, r1...\n",
       "5     [r4, r5, r7, r8, r10, r12, r14, r15, r16, r17,...\n",
       "6     [r2, r3, r4, r5, r7, r8, r10, r12, r14, r15, r...\n",
       "7     [r1, r2, r3, r5, r7, r10, r11, r12, r13, r14, ...\n",
       "8     [r2, r4, r5, r7, r9, r10, r11, r13, r14, r15, ...\n",
       "9     [r0, r1, r3, r6, r7, r8, r11, r13, r15, r16, r...\n",
       "10    [r1, r5, r6, r8, r9, r10, r12, r13, r14, r15, ...\n",
       "11    [r1, r2, r3, r6, r7, r9, r10, r11, r12, r13, r...\n",
       "12    [r0, r2, r3, r4, r5, r6, r11, r12, r14, r16, r...\n",
       "13    [r2, r3, r6, r7, r8, r9, r11, r14, r15, r17, r...\n",
       "14    [r0, r1, r2, r3, r5, r6, r7, r10, r11, r12, r1...\n",
       "15    [r1, r2, r3, r5, r10, r11, r12, r13, r16, r17,...\n",
       "16    [r1, r3, r4, r6, r7, r8, r11, r12, r14, r15, r...\n",
       "17    [r0, r2, r3, r4, r7, r8, r10, r11, r12, r13, r...\n",
       "18    [r0, r1, r3, r5, r8, r9, r10, r11, r15, r18, r...\n",
       "19    [r0, r1, r3, r4, r6, r8, r11, r12, r13, r17, r...\n",
       "dtype: object"
      ]
     },
     "execution_count": 5,
     "metadata": {},
     "output_type": "execute_result"
    }
   ],
   "source": [
    "#taking only present species\n",
    "spp = mock_mat.apply(lambda row: row.index[row == 1].tolist(), axis=1)\n",
    "spp\n",
    "#query_list = spp[2]\n",
    "#mock.sp_tree.get_nodes(*query_list)\n",
    "\n",
    "#pruning the tree to present species for each site\n",
    "#new_tree = toytree.mod.prune(mock.sp_tree, *query_list)\n",
    "#new_tree.draw()\n"
   ]
  },
  {
   "cell_type": "code",
   "execution_count": 6,
   "id": "7b3625a2-9df5-4541-8439-e03286979e03",
   "metadata": {},
   "outputs": [
    {
     "data": {
      "text/html": [
       "<div class=\"toyplot\" id=\"te986402674d6490fa6911c9d97653e01\" style=\"text-align:center\"><svg class=\"toyplot-canvas-Canvas\" xmlns:toyplot=\"http://www.sandia.gov/toyplot\" xmlns:xlink=\"http://www.w3.org/1999/xlink\" xmlns=\"http://www.w3.org/2000/svg\" width=\"315.68px\" height=\"596.7999999999996px\" viewBox=\"0 0 315.68 596.7999999999996\" preserveAspectRatio=\"xMidYMid meet\" style=\"background-color:transparent;border-color:#292724;border-style:none;border-width:1.0;fill:rgb(16.1%,15.3%,14.1%);fill-opacity:1.0;font-family:Helvetica;font-size:12px;opacity:1.0;stroke:rgb(16.1%,15.3%,14.1%);stroke-opacity:1.0;stroke-width:1.0\" id=\"ta3865902e6244990906c9989a20ffcd4\"><g class=\"toyplot-coordinates-Cartesian\" id=\"tdc449d65d4004373acb6bfc7109ac19f\"><clipPath id=\"tc68c57a95e944c18941f2c99cc12fef2\"><rect x=\"35.0\" y=\"35.0\" width=\"245.68\" height=\"526.7999999999996\"></rect></clipPath><g clip-path=\"url(#tc68c57a95e944c18941f2c99cc12fef2)\"><g class=\"toytree-mark-Toytree\" id=\"t68df56b6761b4b04a586e0f2cc96a732\"><g class=\"toytree-Edges\" style=\"stroke:rgb(14.5%,14.5%,14.5%);stroke-opacity:1.0;stroke-linecap:round;stroke-width:2.0;fill:none\"><path d=\"M 161.0 527.3 L 161.0 539.8 L 216.1 539.8\" id=\"31,0\" style=\"\"></path><path d=\"M 188.5 514.8 L 188.5 523.2 L 216.1 523.2\" id=\"30,1\" style=\"\"></path><path d=\"M 188.5 514.8 L 188.5 506.5 L 216.1 506.5\" id=\"30,2\" style=\"\"></path><path d=\"M 188.5 481.5 L 188.5 489.9 L 216.1 489.9\" id=\"32,3\" style=\"\"></path><path d=\"M 188.5 481.5 L 188.5 473.2 L 216.1 473.2\" id=\"32,4\" style=\"\"></path><path d=\"M 133.4 448.2 L 133.4 456.6 L 216.1 456.6\" id=\"34,5\" style=\"\"></path><path d=\"M 133.4 448.2 L 133.4 439.9 L 216.1 439.9\" id=\"34,6\" style=\"\"></path><path d=\"M 161.0 414.9 L 161.0 423.3 L 216.1 423.3\" id=\"36,7\" style=\"\"></path><path d=\"M 161.0 414.9 L 161.0 406.6 L 216.1 406.6\" id=\"36,8\" style=\"\"></path><path d=\"M 161.0 381.6 L 161.0 390.0 L 216.1 390.0\" id=\"37,9\" style=\"\"></path><path d=\"M 161.0 381.6 L 161.0 373.3 L 216.1 373.3\" id=\"37,10\" style=\"\"></path><path d=\"M 133.4 348.3 L 133.4 356.7 L 216.1 356.7\" id=\"39,11\" style=\"\"></path><path d=\"M 133.4 348.3 L 133.4 340.0 L 216.1 340.0\" id=\"39,12\" style=\"\"></path><path d=\"M 161.0 310.9 L 161.0 323.4 L 216.1 323.4\" id=\"43,13\" style=\"\"></path><path d=\"M 188.5 298.4 L 188.5 306.7 L 216.1 306.7\" id=\"42,14\" style=\"\"></path><path d=\"M 188.5 298.4 L 188.5 290.1 L 216.1 290.1\" id=\"42,15\" style=\"\"></path><path d=\"M 133.4 292.2 L 133.4 273.4 L 216.1 273.4\" id=\"44,16\" style=\"\"></path><path d=\"M 161.0 248.5 L 161.0 256.8 L 216.1 256.8\" id=\"45,17\" style=\"\"></path><path d=\"M 161.0 248.5 L 161.0 240.1 L 216.1 240.1\" id=\"45,18\" style=\"\"></path><path d=\"M 161.0 215.2 L 161.0 223.5 L 216.1 223.5\" id=\"46,19\" style=\"\"></path><path d=\"M 161.0 215.2 L 161.0 206.8 L 216.1 206.8\" id=\"46,20\" style=\"\"></path><path d=\"M 161.0 181.9 L 161.0 190.2 L 216.1 190.2\" id=\"49,21\" style=\"\"></path><path d=\"M 161.0 181.9 L 161.0 173.5 L 216.1 173.5\" id=\"49,22\" style=\"\"></path><path d=\"M 161.0 144.4 L 161.0 156.9 L 216.1 156.9\" id=\"51,23\" style=\"\"></path><path d=\"M 188.5 131.9 L 188.5 140.2 L 216.1 140.2\" id=\"50,24\" style=\"\"></path><path d=\"M 188.5 131.9 L 188.5 123.6 L 216.1 123.6\" id=\"50,25\" style=\"\"></path><path d=\"M 188.5 98.6 L 188.5 106.9 L 216.1 106.9\" id=\"53,26\" style=\"\"></path><path d=\"M 188.5 98.6 L 188.5 90.3 L 216.1 90.3\" id=\"53,27\" style=\"\"></path><path d=\"M 188.5 65.3 L 188.5 73.6 L 216.1 73.6\" id=\"54,28\" style=\"\"></path><path d=\"M 188.5 65.3 L 188.5 57.0 L 216.1 57.0\" id=\"54,29\" style=\"\"></path><path d=\"M 161.0 527.3 L 161.0 514.8 L 188.5 514.8\" id=\"31,30\" style=\"\"></path><path d=\"M 133.4 504.4 L 133.4 527.3 L 161.0 527.3\" id=\"33,31\" style=\"\"></path><path d=\"M 133.4 504.4 L 133.4 481.5 L 188.5 481.5\" id=\"33,32\" style=\"\"></path><path d=\"M 105.9 476.3 L 105.9 504.4 L 133.4 504.4\" id=\"35,33\" style=\"\"></path><path d=\"M 105.9 476.3 L 105.9 448.2 L 133.4 448.2\" id=\"35,34\" style=\"\"></path><path d=\"M 78.3 424.8 L 78.3 476.3 L 105.9 476.3\" id=\"41,35\" style=\"\"></path><path d=\"M 133.4 398.3 L 133.4 414.9 L 161.0 414.9\" id=\"38,36\" style=\"\"></path><path d=\"M 133.4 398.3 L 133.4 381.6 L 161.0 381.6\" id=\"38,37\" style=\"\"></path><path d=\"M 105.9 373.3 L 105.9 398.3 L 133.4 398.3\" id=\"40,38\" style=\"\"></path><path d=\"M 105.9 373.3 L 105.9 348.3 L 133.4 348.3\" id=\"40,39\" style=\"\"></path><path d=\"M 78.3 424.8 L 78.3 373.3 L 105.9 373.3\" id=\"41,40\" style=\"\"></path><path d=\"M 50.8 308.5 L 50.8 424.8 L 78.3 424.8\" id=\"58,41\" style=\"\"></path><path d=\"M 161.0 310.9 L 161.0 298.4 L 188.5 298.4\" id=\"43,42\" style=\"\"></path><path d=\"M 133.4 292.2 L 133.4 310.9 L 161.0 310.9\" id=\"44,43\" style=\"\"></path><path d=\"M 105.9 262.0 L 105.9 292.2 L 133.4 292.2\" id=\"48,44\" style=\"\"></path><path d=\"M 133.4 231.8 L 133.4 248.5 L 161.0 248.5\" id=\"47,45\" style=\"\"></path><path d=\"M 133.4 231.8 L 133.4 215.2 L 161.0 215.2\" id=\"47,46\" style=\"\"></path><path d=\"M 105.9 262.0 L 105.9 231.8 L 133.4 231.8\" id=\"48,47\" style=\"\"></path><path d=\"M 78.3 192.3 L 78.3 262.0 L 105.9 262.0\" id=\"57,48\" style=\"\"></path><path d=\"M 133.4 163.1 L 133.4 181.9 L 161.0 181.9\" id=\"52,49\" style=\"\"></path><path d=\"M 161.0 144.4 L 161.0 131.9 L 188.5 131.9\" id=\"51,50\" style=\"\"></path><path d=\"M 133.4 163.1 L 133.4 144.4 L 161.0 144.4\" id=\"52,51\" style=\"\"></path><path d=\"M 105.9 122.6 L 105.9 163.1 L 133.4 163.1\" id=\"56,52\" style=\"\"></path><path d=\"M 133.4 82.0 L 133.4 98.6 L 188.5 98.6\" id=\"55,53\" style=\"\"></path><path d=\"M 133.4 82.0 L 133.4 65.3 L 188.5 65.3\" id=\"55,54\" style=\"\"></path><path d=\"M 105.9 122.6 L 105.9 82.0 L 133.4 82.0\" id=\"56,55\" style=\"\"></path><path d=\"M 78.3 192.3 L 78.3 122.6 L 105.9 122.6\" id=\"57,56\" style=\"\"></path><path d=\"M 50.8 308.5 L 50.8 192.3 L 78.3 192.3\" id=\"58,57\" style=\"\"></path></g><g class=\"toytree-AdmixEdges\" style=\"fill:rgb(0.0%,0.0%,0.0%);fill-opacity:0.0;stroke:rgb(90.6%,54.1%,76.5%);stroke-opacity:0.6;font-size:14px;stroke-linecap:round;stroke-width:5\"></g><g class=\"toytree-Nodes\" style=\"fill:rgb(40.0%,76.1%,64.7%);fill-opacity:1.0;stroke:rgb(14.9%,14.9%,14.9%);stroke-opacity:1.0;stroke-width:1.5\"></g><g class=\"toytree-TipLabels\" style=\"fill:rgb(14.5%,14.5%,14.5%);fill-opacity:1.0;font-family:Helvetica;font-size:12px;font-weight:300;vertical-align:baseline;white-space:pre;stroke:none\"><g class=\"toytree-TipLabel\" transform=\"translate(216.099,539.803)\"><text x=\"15.0\" y=\"3.066\" style=\"fill:rgb(14.5%,14.5%,14.5%);fill-opacity:1.0\">r3</text></g><g class=\"toytree-TipLabel\" transform=\"translate(216.099,523.154)\"><text x=\"15.0\" y=\"3.066\" style=\"fill:rgb(14.5%,14.5%,14.5%);fill-opacity:1.0\">r4</text></g><g class=\"toytree-TipLabel\" transform=\"translate(216.099,506.506)\"><text x=\"15.0\" y=\"3.066\" style=\"fill:rgb(14.5%,14.5%,14.5%);fill-opacity:1.0\">r5</text></g><g class=\"toytree-TipLabel\" transform=\"translate(216.099,489.857)\"><text x=\"15.0\" y=\"3.066\" style=\"fill:rgb(14.5%,14.5%,14.5%);fill-opacity:1.0\">r1</text></g><g class=\"toytree-TipLabel\" transform=\"translate(216.099,473.209)\"><text x=\"15.0\" y=\"3.066\" style=\"fill:rgb(14.5%,14.5%,14.5%);fill-opacity:1.0\">r2</text></g><g class=\"toytree-TipLabel\" transform=\"translate(216.099,456.56)\"><text x=\"15.0\" y=\"3.066\" style=\"fill:rgb(14.5%,14.5%,14.5%);fill-opacity:1.0\">r8</text></g><g class=\"toytree-TipLabel\" transform=\"translate(216.099,439.912)\"><text x=\"15.0\" y=\"3.066\" style=\"fill:rgb(14.5%,14.5%,14.5%);fill-opacity:1.0\">r9</text></g><g class=\"toytree-TipLabel\" transform=\"translate(216.099,423.264)\"><text x=\"15.0\" y=\"3.066\" style=\"fill:rgb(14.5%,14.5%,14.5%);fill-opacity:1.0\">r12</text></g><g class=\"toytree-TipLabel\" transform=\"translate(216.099,406.615)\"><text x=\"15.0\" y=\"3.066\" style=\"fill:rgb(14.5%,14.5%,14.5%);fill-opacity:1.0\">r14</text></g><g class=\"toytree-TipLabel\" transform=\"translate(216.099,389.967)\"><text x=\"15.0\" y=\"3.066\" style=\"fill:rgb(14.5%,14.5%,14.5%);fill-opacity:1.0\">r15</text></g><g class=\"toytree-TipLabel\" transform=\"translate(216.099,373.318)\"><text x=\"15.0\" y=\"3.066\" style=\"fill:rgb(14.5%,14.5%,14.5%);fill-opacity:1.0\">r16</text></g><g class=\"toytree-TipLabel\" transform=\"translate(216.099,356.67)\"><text x=\"15.0\" y=\"3.066\" style=\"fill:rgb(14.5%,14.5%,14.5%);fill-opacity:1.0\">r19</text></g><g class=\"toytree-TipLabel\" transform=\"translate(216.099,340.021)\"><text x=\"15.0\" y=\"3.066\" style=\"fill:rgb(14.5%,14.5%,14.5%);fill-opacity:1.0\">r21</text></g><g class=\"toytree-TipLabel\" transform=\"translate(216.099,323.373)\"><text x=\"15.0\" y=\"3.066\" style=\"fill:rgb(14.5%,14.5%,14.5%);fill-opacity:1.0\">r28</text></g><g class=\"toytree-TipLabel\" transform=\"translate(216.099,306.724)\"><text x=\"15.0\" y=\"3.066\" style=\"fill:rgb(14.5%,14.5%,14.5%);fill-opacity:1.0\">r29</text></g><g class=\"toytree-TipLabel\" transform=\"translate(216.099,290.076)\"><text x=\"15.0\" y=\"3.066\" style=\"fill:rgb(14.5%,14.5%,14.5%);fill-opacity:1.0\">r30</text></g><g class=\"toytree-TipLabel\" transform=\"translate(216.099,273.427)\"><text x=\"15.0\" y=\"3.066\" style=\"fill:rgb(14.5%,14.5%,14.5%);fill-opacity:1.0\">r27</text></g><g class=\"toytree-TipLabel\" transform=\"translate(216.099,256.779)\"><text x=\"15.0\" y=\"3.066\" style=\"fill:rgb(14.5%,14.5%,14.5%);fill-opacity:1.0\">r31</text></g><g class=\"toytree-TipLabel\" transform=\"translate(216.099,240.13)\"><text x=\"15.0\" y=\"3.066\" style=\"fill:rgb(14.5%,14.5%,14.5%);fill-opacity:1.0\">r33</text></g><g class=\"toytree-TipLabel\" transform=\"translate(216.099,223.482)\"><text x=\"15.0\" y=\"3.066\" style=\"fill:rgb(14.5%,14.5%,14.5%);fill-opacity:1.0\">r34</text></g><g class=\"toytree-TipLabel\" transform=\"translate(216.099,206.833)\"><text x=\"15.0\" y=\"3.066\" style=\"fill:rgb(14.5%,14.5%,14.5%);fill-opacity:1.0\">r36</text></g><g class=\"toytree-TipLabel\" transform=\"translate(216.099,190.185)\"><text x=\"15.0\" y=\"3.066\" style=\"fill:rgb(14.5%,14.5%,14.5%);fill-opacity:1.0\">r37</text></g><g class=\"toytree-TipLabel\" transform=\"translate(216.099,173.536)\"><text x=\"15.0\" y=\"3.066\" style=\"fill:rgb(14.5%,14.5%,14.5%);fill-opacity:1.0\">r39</text></g><g class=\"toytree-TipLabel\" transform=\"translate(216.099,156.888)\"><text x=\"15.0\" y=\"3.066\" style=\"fill:rgb(14.5%,14.5%,14.5%);fill-opacity:1.0\">r40</text></g><g class=\"toytree-TipLabel\" transform=\"translate(216.099,140.24)\"><text x=\"15.0\" y=\"3.066\" style=\"fill:rgb(14.5%,14.5%,14.5%);fill-opacity:1.0\">r41</text></g><g class=\"toytree-TipLabel\" transform=\"translate(216.099,123.591)\"><text x=\"15.0\" y=\"3.066\" style=\"fill:rgb(14.5%,14.5%,14.5%);fill-opacity:1.0\">r42</text></g><g class=\"toytree-TipLabel\" transform=\"translate(216.099,106.943)\"><text x=\"15.0\" y=\"3.066\" style=\"fill:rgb(14.5%,14.5%,14.5%);fill-opacity:1.0\">r44</text></g><g class=\"toytree-TipLabel\" transform=\"translate(216.099,90.2941)\"><text x=\"15.0\" y=\"3.066\" style=\"fill:rgb(14.5%,14.5%,14.5%);fill-opacity:1.0\">r45</text></g><g class=\"toytree-TipLabel\" transform=\"translate(216.099,73.6457)\"><text x=\"15.0\" y=\"3.066\" style=\"fill:rgb(14.5%,14.5%,14.5%);fill-opacity:1.0\">r48</text></g><g class=\"toytree-TipLabel\" transform=\"translate(216.099,56.9972)\"><text x=\"15.0\" y=\"3.066\" style=\"fill:rgb(14.5%,14.5%,14.5%);fill-opacity:1.0\">r49</text></g></g></g></g></g></svg><div class=\"toyplot-behavior\"><script>(function()\n",
       "{\n",
       "var modules={};\n",
       "})();</script></div></div>"
      ]
     },
     "metadata": {},
     "output_type": "display_data"
    }
   ],
   "source": [
    "#creating a tree for each mock community\n",
    "comm_trees = []\n",
    "for i in range(len(spp)):\n",
    "    query_list = spp[i]\n",
    "    new_tree = toytree.mod.prune(mock.sp_tree, *query_list)\n",
    "    comm_trees.append(new_tree)\n",
    "\n",
    "comm_trees[0].draw();"
   ]
  },
  {
   "cell_type": "code",
   "execution_count": 143,
   "id": "feceb338-503a-4d60-b578-65d4aa681bd3",
   "metadata": {},
   "outputs": [],
   "source": [
    "# I think this is unnecessary, but I'm keeping it in case anyway\n",
    "\n",
    "#getting a distance matrix for each tree\n",
    "#comm_dists = []\n",
    "#for t in comm_trees:\n",
    "#    dm = t.distance.get_tip_distance_matrix()\n",
    "#    comm_dists.append(dm)\n",
    "    \n",
    "#comm_dists[0]"
   ]
  },
  {
   "cell_type": "markdown",
   "id": "02382fb8-c10a-479c-9314-35801f6d514f",
   "metadata": {},
   "source": [
    "## Visualizing the trees from each community"
   ]
  },
  {
   "cell_type": "markdown",
   "id": "34ee6a9a-4fd5-4e64-8b5d-a16753d375d8",
   "metadata": {},
   "source": [
    "### Highlighting included tips on metacommunity tree"
   ]
  },
  {
   "cell_type": "code",
   "execution_count": 9,
   "id": "14cdd087-8bc4-42e5-891d-f24b53535396",
   "metadata": {},
   "outputs": [
    {
     "data": {
      "text/html": [
       "<div class=\"toyplot\" id=\"t14cda2b297d345509aa3d5965b18cf44\" style=\"text-align:center\"><svg class=\"toyplot-canvas-Canvas\" xmlns:toyplot=\"http://www.sandia.gov/toyplot\" xmlns:xlink=\"http://www.w3.org/1999/xlink\" xmlns=\"http://www.w3.org/2000/svg\" width=\"422.18px\" height=\"962.4999999999999px\" viewBox=\"0 0 422.18 962.4999999999999\" preserveAspectRatio=\"xMidYMid meet\" style=\"background-color:transparent;border-color:#292724;border-style:none;border-width:1.0;fill:rgb(16.1%,15.3%,14.1%);fill-opacity:1.0;font-family:Helvetica;font-size:12px;opacity:1.0;stroke:rgb(16.1%,15.3%,14.1%);stroke-opacity:1.0;stroke-width:1.0\" id=\"t64d1e737c1c842369ae6beaf2ce749f3\"><g class=\"toyplot-coordinates-Cartesian\" id=\"t7bdfc26f03bf45ba8cd6c4f8615c0231\"><clipPath id=\"t0d20550a58304cdf9013f5c7f2583fee\"><rect x=\"35.0\" y=\"35.0\" width=\"352.18\" height=\"892.4999999999999\"></rect></clipPath><g clip-path=\"url(#t0d20550a58304cdf9013f5c7f2583fee)\"><g class=\"toytree-mark-Toytree\" id=\"t60020b18c6ba47a5adb9a1db9dcb421d\"><g class=\"toytree-Edges\" style=\"stroke:rgb(14.5%,14.5%,14.5%);stroke-opacity:1.0;stroke-linecap:round;stroke-width:2.0;fill:none\"><path d=\"M 231.6 892.2 L 231.6 905.1 L 319.3 905.1\" id=\"51,0\" style=\"\"></path><path d=\"M 275.5 879.2 L 275.5 887.8 L 319.3 887.8\" id=\"50,1\" style=\"\"></path><path d=\"M 275.5 879.2 L 275.5 870.5 L 319.3 870.5\" id=\"50,2\" style=\"\"></path><path d=\"M 231.6 840.2 L 231.6 853.2 L 319.3 853.2\" id=\"53,3\" style=\"\"></path><path d=\"M 275.5 827.3 L 275.5 835.9 L 319.3 835.9\" id=\"52,4\" style=\"\"></path><path d=\"M 275.5 827.3 L 275.5 818.6 L 319.3 818.6\" id=\"52,5\" style=\"\"></path><path d=\"M 231.6 788.3 L 231.6 801.3 L 319.3 801.3\" id=\"56,6\" style=\"\"></path><path d=\"M 275.5 775.4 L 275.5 784.0 L 319.3 784.0\" id=\"55,7\" style=\"\"></path><path d=\"M 275.5 775.4 L 275.5 766.7 L 319.3 766.7\" id=\"55,8\" style=\"\"></path><path d=\"M 231.6 736.4 L 231.6 749.4 L 319.3 749.4\" id=\"58,9\" style=\"\"></path><path d=\"M 275.5 723.5 L 275.5 732.1 L 319.3 732.1\" id=\"57,10\" style=\"\"></path><path d=\"M 275.5 723.5 L 275.5 714.8 L 319.3 714.8\" id=\"57,11\" style=\"\"></path><path d=\"M 231.6 684.5 L 231.6 697.5 L 319.3 697.5\" id=\"62,12\" style=\"\"></path><path d=\"M 275.5 671.6 L 275.5 680.2 L 319.3 680.2\" id=\"61,13\" style=\"\"></path><path d=\"M 275.5 671.6 L 275.5 662.9 L 319.3 662.9\" id=\"61,14\" style=\"\"></path><path d=\"M 231.6 632.6 L 231.6 645.6 L 319.3 645.6\" id=\"64,15\" style=\"\"></path><path d=\"M 275.5 619.7 L 275.5 628.3 L 319.3 628.3\" id=\"63,16\" style=\"\"></path><path d=\"M 275.5 619.7 L 275.5 611.0 L 319.3 611.0\" id=\"63,17\" style=\"\"></path><path d=\"M 231.6 580.7 L 231.6 593.7 L 319.3 593.7\" id=\"67,18\" style=\"\"></path><path d=\"M 275.5 567.8 L 275.5 576.4 L 319.3 576.4\" id=\"66,19\" style=\"\"></path><path d=\"M 275.5 567.8 L 275.5 559.1 L 319.3 559.1\" id=\"66,20\" style=\"\"></path><path d=\"M 275.5 533.2 L 275.5 541.8 L 319.3 541.8\" id=\"68,21\" style=\"\"></path><path d=\"M 275.5 533.2 L 275.5 524.5 L 319.3 524.5\" id=\"68,22\" style=\"\"></path><path d=\"M 275.5 498.6 L 275.5 507.2 L 319.3 507.2\" id=\"69,23\" style=\"\"></path><path d=\"M 275.5 498.6 L 275.5 489.9 L 319.3 489.9\" id=\"69,24\" style=\"\"></path><path d=\"M 231.6 459.6 L 231.6 472.6 L 319.3 472.6\" id=\"75,25\" style=\"\"></path><path d=\"M 275.5 446.6 L 275.5 455.3 L 319.3 455.3\" id=\"74,26\" style=\"\"></path><path d=\"M 275.5 446.6 L 275.5 438.0 L 319.3 438.0\" id=\"74,27\" style=\"\"></path><path d=\"M 231.6 407.7 L 231.6 420.7 L 319.3 420.7\" id=\"77,28\" style=\"\"></path><path d=\"M 275.5 394.7 L 275.5 403.4 L 319.3 403.4\" id=\"76,29\" style=\"\"></path><path d=\"M 275.5 394.7 L 275.5 386.1 L 319.3 386.1\" id=\"76,30\" style=\"\"></path><path d=\"M 231.6 355.8 L 231.6 368.8 L 319.3 368.8\" id=\"80,31\" style=\"\"></path><path d=\"M 275.5 342.8 L 275.5 351.5 L 319.3 351.5\" id=\"79,32\" style=\"\"></path><path d=\"M 275.5 342.8 L 275.5 334.2 L 319.3 334.2\" id=\"79,33\" style=\"\"></path><path d=\"M 231.6 303.9 L 231.6 316.9 L 319.3 316.9\" id=\"82,34\" style=\"\"></path><path d=\"M 275.5 290.9 L 275.5 299.6 L 319.3 299.6\" id=\"81,35\" style=\"\"></path><path d=\"M 275.5 290.9 L 275.5 282.3 L 319.3 282.3\" id=\"81,36\" style=\"\"></path><path d=\"M 231.6 252.0 L 231.6 265.0 L 319.3 265.0\" id=\"86,37\" style=\"\"></path><path d=\"M 275.5 239.0 L 275.5 247.7 L 319.3 247.7\" id=\"85,38\" style=\"\"></path><path d=\"M 275.5 239.0 L 275.5 230.4 L 319.3 230.4\" id=\"85,39\" style=\"\"></path><path d=\"M 231.6 200.1 L 231.6 213.1 L 319.3 213.1\" id=\"88,40\" style=\"\"></path><path d=\"M 275.5 187.1 L 275.5 195.8 L 319.3 195.8\" id=\"87,41\" style=\"\"></path><path d=\"M 275.5 187.1 L 275.5 178.5 L 319.3 178.5\" id=\"87,42\" style=\"\"></path><path d=\"M 231.6 148.2 L 231.6 161.2 L 319.3 161.2\" id=\"91,43\" style=\"\"></path><path d=\"M 275.5 135.2 L 275.5 143.9 L 319.3 143.9\" id=\"90,44\" style=\"\"></path><path d=\"M 275.5 135.2 L 275.5 126.6 L 319.3 126.6\" id=\"90,45\" style=\"\"></path><path d=\"M 275.5 100.6 L 275.5 109.3 L 319.3 109.3\" id=\"92,46\" style=\"\"></path><path d=\"M 275.5 100.6 L 275.5 92.0 L 319.3 92.0\" id=\"92,47\" style=\"\"></path><path d=\"M 275.5 66.0 L 275.5 74.7 L 319.3 74.7\" id=\"93,48\" style=\"\"></path><path d=\"M 275.5 66.0 L 275.5 57.4 L 319.3 57.4\" id=\"93,49\" style=\"\"></path><path d=\"M 231.6 892.2 L 231.6 879.2 L 275.5 879.2\" id=\"51,50\" style=\"\"></path><path d=\"M 187.7 866.2 L 187.7 892.2 L 231.6 892.2\" id=\"54,51\" style=\"\"></path><path d=\"M 231.6 840.2 L 231.6 827.3 L 275.5 827.3\" id=\"53,52\" style=\"\"></path><path d=\"M 187.7 866.2 L 187.7 840.2 L 231.6 840.2\" id=\"54,53\" style=\"\"></path><path d=\"M 143.9 814.3 L 143.9 866.2 L 187.7 866.2\" id=\"60,54\" style=\"\"></path><path d=\"M 231.6 788.3 L 231.6 775.4 L 275.5 775.4\" id=\"56,55\" style=\"\"></path><path d=\"M 187.7 762.4 L 187.7 788.3 L 231.6 788.3\" id=\"59,56\" style=\"\"></path><path d=\"M 231.6 736.4 L 231.6 723.5 L 275.5 723.5\" id=\"58,57\" style=\"\"></path><path d=\"M 187.7 762.4 L 187.7 736.4 L 231.6 736.4\" id=\"59,58\" style=\"\"></path><path d=\"M 143.9 814.3 L 143.9 762.4 L 187.7 762.4\" id=\"60,59\" style=\"\"></path><path d=\"M 100.0 708.9 L 100.0 814.3 L 143.9 814.3\" id=\"73,60\" style=\"\"></path><path d=\"M 231.6 684.5 L 231.6 671.6 L 275.5 671.6\" id=\"62,61\" style=\"\"></path><path d=\"M 187.7 658.6 L 187.7 684.5 L 231.6 684.5\" id=\"65,62\" style=\"\"></path><path d=\"M 231.6 632.6 L 231.6 619.7 L 275.5 619.7\" id=\"64,63\" style=\"\"></path><path d=\"M 187.7 658.6 L 187.7 632.6 L 231.6 632.6\" id=\"65,64\" style=\"\"></path><path d=\"M 143.9 603.4 L 143.9 658.6 L 187.7 658.6\" id=\"72,65\" style=\"\"></path><path d=\"M 231.6 580.7 L 231.6 567.8 L 275.5 567.8\" id=\"67,66\" style=\"\"></path><path d=\"M 187.7 548.3 L 187.7 580.7 L 231.6 580.7\" id=\"71,67\" style=\"\"></path><path d=\"M 231.6 515.9 L 231.6 533.2 L 275.5 533.2\" id=\"70,68\" style=\"\"></path><path d=\"M 231.6 515.9 L 231.6 498.6 L 275.5 498.6\" id=\"70,69\" style=\"\"></path><path d=\"M 187.7 548.3 L 187.7 515.9 L 231.6 515.9\" id=\"71,70\" style=\"\"></path><path d=\"M 143.9 603.4 L 143.9 548.3 L 187.7 548.3\" id=\"72,71\" style=\"\"></path><path d=\"M 100.0 708.9 L 100.0 603.4 L 143.9 603.4\" id=\"73,72\" style=\"\"></path><path d=\"M 56.1 492.6 L 56.1 708.9 L 100.0 708.9\" id=\"98,73\" style=\"\"></path><path d=\"M 231.6 459.6 L 231.6 446.6 L 275.5 446.6\" id=\"75,74\" style=\"\"></path><path d=\"M 187.7 433.7 L 187.7 459.6 L 231.6 459.6\" id=\"78,75\" style=\"\"></path><path d=\"M 231.6 407.7 L 231.6 394.7 L 275.5 394.7\" id=\"77,76\" style=\"\"></path><path d=\"M 187.7 433.7 L 187.7 407.7 L 231.6 407.7\" id=\"78,77\" style=\"\"></path><path d=\"M 143.9 381.8 L 143.9 433.7 L 187.7 433.7\" id=\"84,78\" style=\"\"></path><path d=\"M 231.6 355.8 L 231.6 342.8 L 275.5 342.8\" id=\"80,79\" style=\"\"></path><path d=\"M 187.7 329.9 L 187.7 355.8 L 231.6 355.8\" id=\"83,80\" style=\"\"></path><path d=\"M 231.6 303.9 L 231.6 290.9 L 275.5 290.9\" id=\"82,81\" style=\"\"></path><path d=\"M 187.7 329.9 L 187.7 303.9 L 231.6 303.9\" id=\"83,82\" style=\"\"></path><path d=\"M 143.9 381.8 L 143.9 329.9 L 187.7 329.9\" id=\"84,83\" style=\"\"></path><path d=\"M 100.0 276.3 L 100.0 381.8 L 143.9 381.8\" id=\"97,84\" style=\"\"></path><path d=\"M 231.6 252.0 L 231.6 239.0 L 275.5 239.0\" id=\"86,85\" style=\"\"></path><path d=\"M 187.7 226.1 L 187.7 252.0 L 231.6 252.0\" id=\"89,86\" style=\"\"></path><path d=\"M 231.6 200.1 L 231.6 187.1 L 275.5 187.1\" id=\"88,87\" style=\"\"></path><path d=\"M 187.7 226.1 L 187.7 200.1 L 231.6 200.1\" id=\"89,88\" style=\"\"></path><path d=\"M 143.9 170.9 L 143.9 226.1 L 187.7 226.1\" id=\"96,89\" style=\"\"></path><path d=\"M 231.6 148.2 L 231.6 135.2 L 275.5 135.2\" id=\"91,90\" style=\"\"></path><path d=\"M 187.7 115.8 L 187.7 148.2 L 231.6 148.2\" id=\"95,91\" style=\"\"></path><path d=\"M 231.6 83.3 L 231.6 100.6 L 275.5 100.6\" id=\"94,92\" style=\"\"></path><path d=\"M 231.6 83.3 L 231.6 66.0 L 275.5 66.0\" id=\"94,93\" style=\"\"></path><path d=\"M 187.7 115.8 L 187.7 83.3 L 231.6 83.3\" id=\"95,94\" style=\"\"></path><path d=\"M 143.9 170.9 L 143.9 115.8 L 187.7 115.8\" id=\"96,95\" style=\"\"></path><path d=\"M 100.0 276.3 L 100.0 170.9 L 143.9 170.9\" id=\"97,96\" style=\"\"></path><path d=\"M 56.1 492.6 L 56.1 276.3 L 100.0 276.3\" id=\"98,97\" style=\"\"></path></g><g class=\"toytree-AdmixEdges\" style=\"fill:rgb(0.0%,0.0%,0.0%);fill-opacity:0.0;stroke:rgb(90.6%,54.1%,76.5%);stroke-opacity:0.6;font-size:14px;stroke-linecap:round;stroke-width:5\"></g><g class=\"toytree-Nodes\" style=\"fill:rgb(40.0%,76.1%,64.7%);fill-opacity:1.0;stroke:rgb(14.9%,14.9%,14.9%);stroke-opacity:1.0;stroke-width:1.5\"><g id=\"Node-1\" transform=\"translate(319.338,887.827)\"><circle r=\"6.0\"></circle></g><g id=\"Node-2\" transform=\"translate(319.338,870.526)\"><circle r=\"6.0\"></circle></g><g id=\"Node-3\" transform=\"translate(319.338,853.225)\"><circle r=\"6.0\"></circle></g><g id=\"Node-4\" transform=\"translate(319.338,835.924)\"><circle r=\"6.0\"></circle></g><g id=\"Node-5\" transform=\"translate(319.338,818.622)\"><circle r=\"6.0\"></circle></g><g id=\"Node-8\" transform=\"translate(319.338,766.719)\"><circle r=\"6.0\"></circle></g><g id=\"Node-9\" transform=\"translate(319.338,749.418)\"><circle r=\"6.0\"></circle></g><g id=\"Node-12\" transform=\"translate(319.338,697.514)\"><circle r=\"6.0\"></circle></g><g id=\"Node-14\" transform=\"translate(319.338,662.912)\"><circle r=\"6.0\"></circle></g><g id=\"Node-15\" transform=\"translate(319.338,645.611)\"><circle r=\"6.0\"></circle></g><g id=\"Node-16\" transform=\"translate(319.338,628.31)\"><circle r=\"6.0\"></circle></g><g id=\"Node-19\" transform=\"translate(319.338,576.406)\"><circle r=\"6.0\"></circle></g><g id=\"Node-21\" transform=\"translate(319.338,541.804)\"><circle r=\"6.0\"></circle></g><g id=\"Node-27\" transform=\"translate(319.338,437.997)\"><circle r=\"6.0\"></circle></g><g id=\"Node-28\" transform=\"translate(319.338,420.696)\"><circle r=\"6.0\"></circle></g><g id=\"Node-29\" transform=\"translate(319.338,403.395)\"><circle r=\"6.0\"></circle></g><g id=\"Node-30\" transform=\"translate(319.338,386.094)\"><circle r=\"6.0\"></circle></g><g id=\"Node-31\" transform=\"translate(319.338,368.793)\"><circle r=\"6.0\"></circle></g><g id=\"Node-33\" transform=\"translate(319.338,334.19)\"><circle r=\"6.0\"></circle></g><g id=\"Node-34\" transform=\"translate(319.338,316.889)\"><circle r=\"6.0\"></circle></g><g id=\"Node-36\" transform=\"translate(319.338,282.287)\"><circle r=\"6.0\"></circle></g><g id=\"Node-37\" transform=\"translate(319.338,264.986)\"><circle r=\"6.0\"></circle></g><g id=\"Node-39\" transform=\"translate(319.338,230.383)\"><circle r=\"6.0\"></circle></g><g id=\"Node-40\" transform=\"translate(319.338,213.082)\"><circle r=\"6.0\"></circle></g><g id=\"Node-41\" transform=\"translate(319.338,195.781)\"><circle r=\"6.0\"></circle></g><g id=\"Node-42\" transform=\"translate(319.338,178.48)\"><circle r=\"6.0\"></circle></g><g id=\"Node-44\" transform=\"translate(319.338,143.878)\"><circle r=\"6.0\"></circle></g><g id=\"Node-45\" transform=\"translate(319.338,126.576)\"><circle r=\"6.0\"></circle></g><g id=\"Node-48\" transform=\"translate(319.338,74.6729)\"><circle r=\"6.0\"></circle></g><g id=\"Node-49\" transform=\"translate(319.338,57.3718)\"><circle r=\"6.0\"></circle></g></g><g class=\"toytree-TipLabels\" style=\"fill:rgb(14.5%,14.5%,14.5%);fill-opacity:1.0;font-family:Helvetica;font-size:12px;font-weight:300;vertical-align:baseline;white-space:pre;stroke:none\"><g class=\"toytree-TipLabel\" transform=\"translate(319.338,905.128)\"><text x=\"15.0\" y=\"3.066\" style=\"fill:rgb(14.5%,14.5%,14.5%);fill-opacity:1.0\">r0</text></g><g class=\"toytree-TipLabel\" transform=\"translate(319.338,887.827)\"><text x=\"15.0\" y=\"3.066\" style=\"fill:rgb(14.5%,14.5%,14.5%);fill-opacity:1.0\">r1</text></g><g class=\"toytree-TipLabel\" transform=\"translate(319.338,870.526)\"><text x=\"15.0\" y=\"3.066\" style=\"fill:rgb(14.5%,14.5%,14.5%);fill-opacity:1.0\">r2</text></g><g class=\"toytree-TipLabel\" transform=\"translate(319.338,853.225)\"><text x=\"15.0\" y=\"3.066\" style=\"fill:rgb(14.5%,14.5%,14.5%);fill-opacity:1.0\">r3</text></g><g class=\"toytree-TipLabel\" transform=\"translate(319.338,835.924)\"><text x=\"15.0\" y=\"3.066\" style=\"fill:rgb(14.5%,14.5%,14.5%);fill-opacity:1.0\">r4</text></g><g class=\"toytree-TipLabel\" transform=\"translate(319.338,818.622)\"><text x=\"15.0\" y=\"3.066\" style=\"fill:rgb(14.5%,14.5%,14.5%);fill-opacity:1.0\">r5</text></g><g class=\"toytree-TipLabel\" transform=\"translate(319.338,801.321)\"><text x=\"15.0\" y=\"3.066\" style=\"fill:rgb(14.5%,14.5%,14.5%);fill-opacity:1.0\">r6</text></g><g class=\"toytree-TipLabel\" transform=\"translate(319.338,784.02)\"><text x=\"15.0\" y=\"3.066\" style=\"fill:rgb(14.5%,14.5%,14.5%);fill-opacity:1.0\">r7</text></g><g class=\"toytree-TipLabel\" transform=\"translate(319.338,766.719)\"><text x=\"15.0\" y=\"3.066\" style=\"fill:rgb(14.5%,14.5%,14.5%);fill-opacity:1.0\">r8</text></g><g class=\"toytree-TipLabel\" transform=\"translate(319.338,749.418)\"><text x=\"15.0\" y=\"3.066\" style=\"fill:rgb(14.5%,14.5%,14.5%);fill-opacity:1.0\">r9</text></g><g class=\"toytree-TipLabel\" transform=\"translate(319.338,732.117)\"><text x=\"15.0\" y=\"3.066\" style=\"fill:rgb(14.5%,14.5%,14.5%);fill-opacity:1.0\">r10</text></g><g class=\"toytree-TipLabel\" transform=\"translate(319.338,714.816)\"><text x=\"15.0\" y=\"3.066\" style=\"fill:rgb(14.5%,14.5%,14.5%);fill-opacity:1.0\">r11</text></g><g class=\"toytree-TipLabel\" transform=\"translate(319.338,697.514)\"><text x=\"15.0\" y=\"3.066\" style=\"fill:rgb(14.5%,14.5%,14.5%);fill-opacity:1.0\">r12</text></g><g class=\"toytree-TipLabel\" transform=\"translate(319.338,680.213)\"><text x=\"15.0\" y=\"3.066\" style=\"fill:rgb(14.5%,14.5%,14.5%);fill-opacity:1.0\">r13</text></g><g class=\"toytree-TipLabel\" transform=\"translate(319.338,662.912)\"><text x=\"15.0\" y=\"3.066\" style=\"fill:rgb(14.5%,14.5%,14.5%);fill-opacity:1.0\">r14</text></g><g class=\"toytree-TipLabel\" transform=\"translate(319.338,645.611)\"><text x=\"15.0\" y=\"3.066\" style=\"fill:rgb(14.5%,14.5%,14.5%);fill-opacity:1.0\">r15</text></g><g class=\"toytree-TipLabel\" transform=\"translate(319.338,628.31)\"><text x=\"15.0\" y=\"3.066\" style=\"fill:rgb(14.5%,14.5%,14.5%);fill-opacity:1.0\">r16</text></g><g class=\"toytree-TipLabel\" transform=\"translate(319.338,611.009)\"><text x=\"15.0\" y=\"3.066\" style=\"fill:rgb(14.5%,14.5%,14.5%);fill-opacity:1.0\">r17</text></g><g class=\"toytree-TipLabel\" transform=\"translate(319.338,593.707)\"><text x=\"15.0\" y=\"3.066\" style=\"fill:rgb(14.5%,14.5%,14.5%);fill-opacity:1.0\">r18</text></g><g class=\"toytree-TipLabel\" transform=\"translate(319.338,576.406)\"><text x=\"15.0\" y=\"3.066\" style=\"fill:rgb(14.5%,14.5%,14.5%);fill-opacity:1.0\">r19</text></g><g class=\"toytree-TipLabel\" transform=\"translate(319.338,559.105)\"><text x=\"15.0\" y=\"3.066\" style=\"fill:rgb(14.5%,14.5%,14.5%);fill-opacity:1.0\">r20</text></g><g class=\"toytree-TipLabel\" transform=\"translate(319.338,541.804)\"><text x=\"15.0\" y=\"3.066\" style=\"fill:rgb(14.5%,14.5%,14.5%);fill-opacity:1.0\">r21</text></g><g class=\"toytree-TipLabel\" transform=\"translate(319.338,524.503)\"><text x=\"15.0\" y=\"3.066\" style=\"fill:rgb(14.5%,14.5%,14.5%);fill-opacity:1.0\">r22</text></g><g class=\"toytree-TipLabel\" transform=\"translate(319.338,507.202)\"><text x=\"15.0\" y=\"3.066\" style=\"fill:rgb(14.5%,14.5%,14.5%);fill-opacity:1.0\">r23</text></g><g class=\"toytree-TipLabel\" transform=\"translate(319.338,489.901)\"><text x=\"15.0\" y=\"3.066\" style=\"fill:rgb(14.5%,14.5%,14.5%);fill-opacity:1.0\">r24</text></g><g class=\"toytree-TipLabel\" transform=\"translate(319.338,472.599)\"><text x=\"15.0\" y=\"3.066\" style=\"fill:rgb(14.5%,14.5%,14.5%);fill-opacity:1.0\">r25</text></g><g class=\"toytree-TipLabel\" transform=\"translate(319.338,455.298)\"><text x=\"15.0\" y=\"3.066\" style=\"fill:rgb(14.5%,14.5%,14.5%);fill-opacity:1.0\">r26</text></g><g class=\"toytree-TipLabel\" transform=\"translate(319.338,437.997)\"><text x=\"15.0\" y=\"3.066\" style=\"fill:rgb(14.5%,14.5%,14.5%);fill-opacity:1.0\">r27</text></g><g class=\"toytree-TipLabel\" transform=\"translate(319.338,420.696)\"><text x=\"15.0\" y=\"3.066\" style=\"fill:rgb(14.5%,14.5%,14.5%);fill-opacity:1.0\">r28</text></g><g class=\"toytree-TipLabel\" transform=\"translate(319.338,403.395)\"><text x=\"15.0\" y=\"3.066\" style=\"fill:rgb(14.5%,14.5%,14.5%);fill-opacity:1.0\">r29</text></g><g class=\"toytree-TipLabel\" transform=\"translate(319.338,386.094)\"><text x=\"15.0\" y=\"3.066\" style=\"fill:rgb(14.5%,14.5%,14.5%);fill-opacity:1.0\">r30</text></g><g class=\"toytree-TipLabel\" transform=\"translate(319.338,368.793)\"><text x=\"15.0\" y=\"3.066\" style=\"fill:rgb(14.5%,14.5%,14.5%);fill-opacity:1.0\">r31</text></g><g class=\"toytree-TipLabel\" transform=\"translate(319.338,351.491)\"><text x=\"15.0\" y=\"3.066\" style=\"fill:rgb(14.5%,14.5%,14.5%);fill-opacity:1.0\">r32</text></g><g class=\"toytree-TipLabel\" transform=\"translate(319.338,334.19)\"><text x=\"15.0\" y=\"3.066\" style=\"fill:rgb(14.5%,14.5%,14.5%);fill-opacity:1.0\">r33</text></g><g class=\"toytree-TipLabel\" transform=\"translate(319.338,316.889)\"><text x=\"15.0\" y=\"3.066\" style=\"fill:rgb(14.5%,14.5%,14.5%);fill-opacity:1.0\">r34</text></g><g class=\"toytree-TipLabel\" transform=\"translate(319.338,299.588)\"><text x=\"15.0\" y=\"3.066\" style=\"fill:rgb(14.5%,14.5%,14.5%);fill-opacity:1.0\">r35</text></g><g class=\"toytree-TipLabel\" transform=\"translate(319.338,282.287)\"><text x=\"15.0\" y=\"3.066\" style=\"fill:rgb(14.5%,14.5%,14.5%);fill-opacity:1.0\">r36</text></g><g class=\"toytree-TipLabel\" transform=\"translate(319.338,264.986)\"><text x=\"15.0\" y=\"3.066\" style=\"fill:rgb(14.5%,14.5%,14.5%);fill-opacity:1.0\">r37</text></g><g class=\"toytree-TipLabel\" transform=\"translate(319.338,247.684)\"><text x=\"15.0\" y=\"3.066\" style=\"fill:rgb(14.5%,14.5%,14.5%);fill-opacity:1.0\">r38</text></g><g class=\"toytree-TipLabel\" transform=\"translate(319.338,230.383)\"><text x=\"15.0\" y=\"3.066\" style=\"fill:rgb(14.5%,14.5%,14.5%);fill-opacity:1.0\">r39</text></g><g class=\"toytree-TipLabel\" transform=\"translate(319.338,213.082)\"><text x=\"15.0\" y=\"3.066\" style=\"fill:rgb(14.5%,14.5%,14.5%);fill-opacity:1.0\">r40</text></g><g class=\"toytree-TipLabel\" transform=\"translate(319.338,195.781)\"><text x=\"15.0\" y=\"3.066\" style=\"fill:rgb(14.5%,14.5%,14.5%);fill-opacity:1.0\">r41</text></g><g class=\"toytree-TipLabel\" transform=\"translate(319.338,178.48)\"><text x=\"15.0\" y=\"3.066\" style=\"fill:rgb(14.5%,14.5%,14.5%);fill-opacity:1.0\">r42</text></g><g class=\"toytree-TipLabel\" transform=\"translate(319.338,161.179)\"><text x=\"15.0\" y=\"3.066\" style=\"fill:rgb(14.5%,14.5%,14.5%);fill-opacity:1.0\">r43</text></g><g class=\"toytree-TipLabel\" transform=\"translate(319.338,143.878)\"><text x=\"15.0\" y=\"3.066\" style=\"fill:rgb(14.5%,14.5%,14.5%);fill-opacity:1.0\">r44</text></g><g class=\"toytree-TipLabel\" transform=\"translate(319.338,126.576)\"><text x=\"15.0\" y=\"3.066\" style=\"fill:rgb(14.5%,14.5%,14.5%);fill-opacity:1.0\">r45</text></g><g class=\"toytree-TipLabel\" transform=\"translate(319.338,109.275)\"><text x=\"15.0\" y=\"3.066\" style=\"fill:rgb(14.5%,14.5%,14.5%);fill-opacity:1.0\">r46</text></g><g class=\"toytree-TipLabel\" transform=\"translate(319.338,91.9741)\"><text x=\"15.0\" y=\"3.066\" style=\"fill:rgb(14.5%,14.5%,14.5%);fill-opacity:1.0\">r47</text></g><g class=\"toytree-TipLabel\" transform=\"translate(319.338,74.6729)\"><text x=\"15.0\" y=\"3.066\" style=\"fill:rgb(14.5%,14.5%,14.5%);fill-opacity:1.0\">r48</text></g><g class=\"toytree-TipLabel\" transform=\"translate(319.338,57.3718)\"><text x=\"15.0\" y=\"3.066\" style=\"fill:rgb(14.5%,14.5%,14.5%);fill-opacity:1.0\">r49</text></g></g></g></g></g></svg><div class=\"toyplot-behavior\"><script>(function()\n",
       "{\n",
       "var modules={};\n",
       "})();</script></div></div>"
      ]
     },
     "metadata": {},
     "output_type": "display_data"
    }
   ],
   "source": [
    "#create a mask for species in the community only\n",
    "mask = []\n",
    "for i in range(len(spp)):\n",
    "    query_list = spp[i]\n",
    "    comm_mask = mock.sp_tree.get_node_mask(*query_list)\n",
    "    mask.append(comm_mask)\n",
    "#mask[0]\n",
    "#mock.sp_tree.draw(node_mask=mask[0], node_sizes=12);"
   ]
  },
  {
   "cell_type": "code",
   "execution_count": null,
   "id": "1e8b06ca-4d85-464e-b43f-0162268f9cf7",
   "metadata": {},
   "outputs": [],
   "source": [
    "# a MultiTree containing 50 random coalescent trees with 10 tips each\n",
    "mtree = toytree.mtree([toytree.rtree.coaltree(10) for i in range(50)])"
   ]
  },
  {
   "cell_type": "code",
   "execution_count": null,
   "id": "ff96e890-4944-4fd8-a69e-6176c248bb79",
   "metadata": {},
   "outputs": [],
   "source": [
    "#create all of the trees\n",
    "viz_trees = []\n",
    "for i in range(len(spp)):\n",
    "    \n",
    "#create a grid of all of the community trees"
   ]
  },
  {
   "cell_type": "markdown",
   "id": "26cec943-9c0f-42b6-93f2-25d2428ffd90",
   "metadata": {},
   "source": [
    "### Visualizing the pruned trees"
   ]
  },
  {
   "cell_type": "code",
   "execution_count": null,
   "id": "c537abd0-4dbc-4616-81c0-9854d7a14ac0",
   "metadata": {},
   "outputs": [],
   "source": []
  },
  {
   "cell_type": "markdown",
   "id": "40078e1b-32fc-4d68-8d25-528393caed41",
   "metadata": {},
   "source": [
    "## Calculating different metrics"
   ]
  },
  {
   "cell_type": "markdown",
   "id": "ed297d49-0375-48b8-95ea-a8a174c231d9",
   "metadata": {},
   "source": [
    "### Faith's phylogenetic distance (PD)\n",
    "The sum of all branch lengths in the community"
   ]
  },
  {
   "cell_type": "code",
   "execution_count": 144,
   "id": "454d5151-06a9-4d72-8de2-5d0c37317808",
   "metadata": {},
   "outputs": [],
   "source": [
    "#remove absent species from distance matrix\n",
    "comm_dists = []\n",
    "for comm in spp:\n",
    "    comm_dm = meta_dm.loc[comm, comm]\n",
    "    comm_dists.append(comm_dm)"
   ]
  },
  {
   "cell_type": "code",
   "execution_count": 116,
   "id": "4af1b22d-d314-4fec-9cec-215a0a81d91c",
   "metadata": {},
   "outputs": [
    {
     "data": {
      "text/plain": [
       "[742.3333333333333,\n",
       " 736.0,\n",
       " 740.9999999999999,\n",
       " 737.3333333333333,\n",
       " 743.9999999999999,\n",
       " 738.6666666666666,\n",
       " 742.0,\n",
       " 746.0,\n",
       " 744.0,\n",
       " 744.6666666666665,\n",
       " 742.9999999999998,\n",
       " 742.6666666666666,\n",
       " 744.0,\n",
       " 745.0,\n",
       " 740.3333333333333,\n",
       " 739.3333333333333,\n",
       " 744.0,\n",
       " 742.3333333333333,\n",
       " 740.3333333333333,\n",
       " 739.6666666666665]"
      ]
     },
     "execution_count": 116,
     "metadata": {},
     "output_type": "execute_result"
    }
   ],
   "source": [
    "# This isn't right--I summed all distances, but that double counts a lot of edges. Need to only count each edge once.\n",
    "\n",
    "#sum all distances in each matrix\n",
    "pd = []\n",
    "for dm in comm_dists:\n",
    "    total = np.sum(np.triu(dm, k=1)) #takes the upper triangle only and excludes 0s\n",
    "    pd.append(total)\n",
    "\n",
    "pd\n",
    "#check against picante in R"
   ]
  },
  {
   "cell_type": "markdown",
   "id": "780be235-f25c-47ff-a86b-47f93e6c842a",
   "metadata": {},
   "source": [
    "This is super different.... picante result is between 13 and 14...."
   ]
  },
  {
   "cell_type": "code",
   "execution_count": null,
   "id": "087d383b-633b-41ab-a1ce-03f0b851499a",
   "metadata": {},
   "outputs": [],
   "source": [
    "# Do something in here to sum each edge (only counted once)"
   ]
  },
  {
   "cell_type": "markdown",
   "id": "fbbe4cd4-dd4a-4696-a23c-eab610306fdc",
   "metadata": {},
   "source": [
    "### Mean pairwise distance (MPD)\n",
    "The mean distance between any pair of species in the community"
   ]
  },
  {
   "cell_type": "markdown",
   "id": "3da8e842-772a-45e9-9f24-f125cac70acb",
   "metadata": {},
   "source": [
    "### Mean nearest neighbor distance (MNND)\n",
    "The mean distance from one species to its nearest neighbor for all species in the community"
   ]
  }
 ],
 "metadata": {
  "kernelspec": {
   "display_name": "Python 3 (ipykernel)",
   "language": "python",
   "name": "python3"
  },
  "language_info": {
   "codemirror_mode": {
    "name": "ipython",
    "version": 3
   },
   "file_extension": ".py",
   "mimetype": "text/x-python",
   "name": "python",
   "nbconvert_exporter": "python",
   "pygments_lexer": "ipython3",
   "version": "3.12.2"
  }
 },
 "nbformat": 4,
 "nbformat_minor": 5
}
