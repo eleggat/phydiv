{
 "cells": [
  {
   "cell_type": "markdown",
   "id": "1c24a222-915b-4ee0-baf0-c377024bc8e9",
   "metadata": {},
   "source": [
    "# Testing the class with default files"
   ]
  },
  {
   "cell_type": "markdown",
   "id": "0d8f741c-27d5-436d-9b50-ba44ee8b9c6a",
   "metadata": {},
   "source": [
    "## Testing default file inclusion"
   ]
  },
  {
   "cell_type": "code",
   "execution_count": 1,
   "id": "cec7d91f-a74d-414a-bf78-1c6f496a9336",
   "metadata": {},
   "outputs": [
    {
     "name": "stderr",
     "output_type": "stream",
     "text": [
      "/Users/emilyleggat/miniconda3/lib/python3.12/site-packages/Bio/Application/__init__.py:39: BiopythonDeprecationWarning: The Bio.Application modules and modules relying on it have been deprecated.\n",
      "\n",
      "Due to the on going maintenance burden of keeping command line application\n",
      "wrappers up to date, we have decided to deprecate and eventually remove these\n",
      "modules.\n",
      "\n",
      "We instead now recommend building your command line and invoking it directly\n",
      "with the subprocess module.\n",
      "  warnings.warn(\n"
     ]
    }
   ],
   "source": [
    "import numpy as np\n",
    "import pandas as pd\n",
    "\n",
    "#from Bio.Align.Applications import MuscleCommandline\n",
    "#from Bio.GenBank import Record\n",
    "import toytree"
   ]
  },
  {
   "cell_type": "markdown",
   "id": "55931f46-f0d3-4421-b22f-3b370fff26fb",
   "metadata": {},
   "source": [
    "Bio.Align.Applications gives a deprecation warning..."
   ]
  },
  {
   "cell_type": "code",
   "execution_count": 6,
   "id": "2e6691a6-8f19-407f-94e1-41f34eaf3d93",
   "metadata": {},
   "outputs": [],
   "source": [
    "class Phydiv:\n",
    "\t\"\"\"\n",
    "\tThis class takes community sequence (.fasta or .csv) and matrix occurence data (.csv) to\n",
    "\tproduce measures of phylogenetic diversity and tree visualizations.\n",
    "\t\"\"\"\n",
    "\n",
    "\tdefault_seq = 'default_seq.csv'\n",
    "\tdefault_mat = 'default_mat.csv'\n",
    "\n",
    "\n",
    "\tdef __init__(self, seq = default_seq, mat = default_mat):\n",
    "\t\tself.seq = seq #this can be .fasta or .csv\n",
    "\t\tself.mat = mat #this needs to be .csv\n",
    "\t\t# Include a parameter so either both are given, or both are left blank. Otherwise, an error\n",
    "\n",
    "\tdef __repr__(self):\n",
    "\t\treturn f\"Phylogenetic diversity will be calculated using sequences in {self.seq} and communities in {self.mat}.\"\n"
   ]
  },
  {
   "cell_type": "code",
   "execution_count": 7,
   "id": "28f66f4e-111c-4d0b-ac4a-dfb6841be83d",
   "metadata": {},
   "outputs": [
    {
     "data": {
      "text/plain": [
       "Phylogenetic diversity will be calculated using sequences in default_seq.csv and communities in default_mat.csv."
      ]
     },
     "execution_count": 7,
     "metadata": {},
     "output_type": "execute_result"
    }
   ],
   "source": [
    "test = Phydiv()\n",
    "test"
   ]
  },
  {
   "cell_type": "code",
   "execution_count": 17,
   "id": "c1e5fcca-65f5-4afb-8b11-05e87ca22b18",
   "metadata": {},
   "outputs": [],
   "source": [
    "class Phydiv:\n",
    "    \"\"\"\n",
    "    This class takes community sequence (.fasta or .csv) and matrix occurence data (.csv) to\n",
    "    produce measures of phylogenetic diversity and tree visualizations.\n",
    "    \"\"\"\n",
    "    \n",
    "    default_seq = pd.read_csv('default_seq.csv')\n",
    "    default_mat = pd.read_csv('default_mat.csv')\n",
    "    \n",
    "    \n",
    "    def __init__(self, seq = default_seq, mat = default_mat):\n",
    "        self.seq = seq #this can be .fasta or .csv\n",
    "        self.mat = mat #this needs to be .csv\n",
    "        # Include a parameter so either both are given, or both are left blank. Otherwise, an error\n",
    "    \n",
    "    def __repr__(self):\n",
    "        return f\"Phylogenetic diversity will be calculated using sequences in {self.seq} and communities in {self.mat}.\"\n",
    "    \n",
    "    def csv_to_fasta(self):\n",
    "        \"\"\"\n",
    "        A function to pull GenBank sequences from accession numbers if self.seq is a .csv\n",
    "        \"\"\"\n",
    "        if self.seq[-4:] == \".csv\":\n",
    "            #Code to pull GenBank sequences from accession numbers and write a .fasta\n",
    "            csv = pd.read_csv(self.seq)\n",
    "        \n",
    "        elif self.seq[-6:] == \".fasta\":\n",
    "            pass\n",
    "    \n",
    "        else: raise Exception(\"Sequence file must be .csv or .fasta\")\n"
   ]
  },
  {
   "cell_type": "code",
   "execution_count": 23,
   "id": "b926d659-33f9-4f01-a972-aa0f47448c7e",
   "metadata": {},
   "outputs": [
    {
     "ename": "Exception",
     "evalue": "Sequence file must be .csv or .fasta",
     "output_type": "error",
     "traceback": [
      "\u001b[31m---------------------------------------------------------------------------\u001b[39m",
      "\u001b[31mException\u001b[39m                                 Traceback (most recent call last)",
      "\u001b[36mCell\u001b[39m\u001b[36m \u001b[39m\u001b[32mIn[23]\u001b[39m\u001b[32m, line 3\u001b[39m\n\u001b[32m      1\u001b[39m test = Phydiv(seq = \u001b[33m\"\u001b[39m\u001b[33mcat\u001b[39m\u001b[33m\"\u001b[39m)\n\u001b[32m      2\u001b[39m test\n\u001b[32m----> \u001b[39m\u001b[32m3\u001b[39m \u001b[43mtest\u001b[49m\u001b[43m.\u001b[49m\u001b[43mcsv_to_fasta\u001b[49m\u001b[43m(\u001b[49m\u001b[43m)\u001b[49m\n",
      "\u001b[36mCell\u001b[39m\u001b[36m \u001b[39m\u001b[32mIn[17]\u001b[39m\u001b[32m, line 30\u001b[39m, in \u001b[36mPhydiv.csv_to_fasta\u001b[39m\u001b[34m(self)\u001b[39m\n\u001b[32m     27\u001b[39m \u001b[38;5;28;01melif\u001b[39;00m \u001b[38;5;28mself\u001b[39m.seq[-\u001b[32m6\u001b[39m:] == \u001b[33m\"\u001b[39m\u001b[33m.fasta\u001b[39m\u001b[33m\"\u001b[39m:\n\u001b[32m     28\u001b[39m     \u001b[38;5;28;01mpass\u001b[39;00m\n\u001b[32m---> \u001b[39m\u001b[32m30\u001b[39m \u001b[38;5;28;01melse\u001b[39;00m: \u001b[38;5;28;01mraise\u001b[39;00m \u001b[38;5;167;01mException\u001b[39;00m(\u001b[33m\"\u001b[39m\u001b[33mSequence file must be .csv or .fasta\u001b[39m\u001b[33m\"\u001b[39m)\n",
      "\u001b[31mException\u001b[39m: Sequence file must be .csv or .fasta"
     ]
    }
   ],
   "source": [
    "test = Phydiv(seq = \"cat\")\n",
    "test\n",
    "test.csv_to_fasta()"
   ]
  }
 ],
 "metadata": {
  "kernelspec": {
   "display_name": "Python 3 (ipykernel)",
   "language": "python",
   "name": "python3"
  },
  "language_info": {
   "codemirror_mode": {
    "name": "ipython",
    "version": 3
   },
   "file_extension": ".py",
   "mimetype": "text/x-python",
   "name": "python",
   "nbconvert_exporter": "python",
   "pygments_lexer": "ipython3",
   "version": "3.12.2"
  }
 },
 "nbformat": 4,
 "nbformat_minor": 5
}
