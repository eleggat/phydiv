{
 "cells": [
  {
   "cell_type": "markdown",
   "id": "1c24a222-915b-4ee0-baf0-c377024bc8e9",
   "metadata": {},
   "source": [
    "# Testing the main Phydiv class"
   ]
  },
  {
   "cell_type": "markdown",
   "id": "0d8f741c-27d5-436d-9b50-ba44ee8b9c6a",
   "metadata": {},
   "source": [
    "## Testing default file inclusion"
   ]
  },
  {
   "cell_type": "code",
   "execution_count": 2,
   "id": "cec7d91f-a74d-414a-bf78-1c6f496a9336",
   "metadata": {},
   "outputs": [],
   "source": [
    "import numpy as np\n",
    "import pandas as pd\n",
    "\n",
    "import itertools\n",
    "import random\n",
    "import toytree\n",
    "import toyplot\n",
    "from src.simpd.simpd import Simpd"
   ]
  },
  {
   "cell_type": "code",
   "execution_count": 6,
   "id": "2e6691a6-8f19-407f-94e1-41f34eaf3d93",
   "metadata": {},
   "outputs": [],
   "source": [
    "class Phydiv:\n",
    "\t\"\"\"\n",
    "\tThis class takes a metacommunity tree and site by species matrix to\n",
    "\tproduce measures of phylogenetic diversity and tree visualizations.\n",
    "\t\"\"\"\n",
    "\n",
    "\tdefault_tree = 'mock_tree.nwk'\n",
    "\tdefault_matrix = 'mock_matrix.csv'\n",
    "\n",
    "\tdef __init__(self, tree = None, matrix = None):\n",
    "\t\tif (tree is None) != (matrix is None):\n",
    "            raise ValueError(\"You must provide both 'tree' and 'matrix', or neither.\")\n",
    "        if tree is not None and matrix is not None:\n",
    "            self.tree = tree\n",
    "            self.matrix = matrix\n",
    "        else:\n",
    "            self.tree = default_tree\n",
    "            self.matrix = default_matrix\n",
    "\n",
    "        else:\n",
    "            raise ValueError(\"Input both metacommunity tree and site x species community matrix\")\n",
    "\n",
    "        self.spp = matrix.apply(lambda row: row.index[row == 1].tolist(), axis=1) #list of species in each community\n",
    "\n",
    "\tdef __repr__(self):\n",
    "\t\treturn f\"Phylogenetic diversity will be calculated using the metacommunity tree {self.tree} and communities in {self.matrix}.\"\n"
   ]
  }
 ],
 "metadata": {
  "kernelspec": {
   "display_name": "Python 3 (ipykernel)",
   "language": "python",
   "name": "python3"
  },
  "language_info": {
   "codemirror_mode": {
    "name": "ipython",
    "version": 3
   },
   "file_extension": ".py",
   "mimetype": "text/x-python",
   "name": "python",
   "nbconvert_exporter": "python",
   "pygments_lexer": "ipython3",
   "version": "3.12.2"
  }
 },
 "nbformat": 4,
 "nbformat_minor": 5
}
